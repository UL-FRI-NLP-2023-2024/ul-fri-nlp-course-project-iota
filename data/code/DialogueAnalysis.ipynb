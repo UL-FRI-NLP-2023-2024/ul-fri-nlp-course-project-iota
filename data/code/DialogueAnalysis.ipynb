{
 "cells": [
  {
   "cell_type": "markdown",
   "metadata": {},
   "source": [
    "# Deprecated: Dialogue analysis\n"
   ]
  },
  {
   "cell_type": "code",
   "execution_count": 1,
   "metadata": {},
   "outputs": [],
   "source": [
    "import os\n",
    "import pandas as pd\n",
    "from colorama import Fore, Back, Style"
   ]
  },
  {
   "cell_type": "code",
   "execution_count": 2,
   "metadata": {},
   "outputs": [
    {
     "data": {
      "text/plain": [
       "['README.md', 'inter', '.gitignore', 'dialogues_phi.csv']"
      ]
     },
     "execution_count": 2,
     "metadata": {},
     "output_type": "execute_result"
    }
   ],
   "source": [
    "data_dir = \"../dialogue/\"\n",
    "\n",
    "os.listdir(data_dir)"
   ]
  },
  {
   "cell_type": "code",
   "execution_count": 4,
   "metadata": {},
   "outputs": [
    {
     "name": "stdout",
     "output_type": "stream",
     "text": [
      "40318\n"
     ]
    },
    {
     "data": {
      "text/html": [
       "<div>\n",
       "<style scoped>\n",
       "    .dataframe tbody tr th:only-of-type {\n",
       "        vertical-align: middle;\n",
       "    }\n",
       "\n",
       "    .dataframe tbody tr th {\n",
       "        vertical-align: top;\n",
       "    }\n",
       "\n",
       "    .dataframe thead th {\n",
       "        text-align: right;\n",
       "    }\n",
       "</style>\n",
       "<table border=\"1\" class=\"dataframe\">\n",
       "  <thead>\n",
       "    <tr style=\"text-align: right;\">\n",
       "      <th></th>\n",
       "      <th>Book</th>\n",
       "      <th>Context</th>\n",
       "      <th>Dialogue</th>\n",
       "      <th>__index_level_0__</th>\n",
       "      <th>Character</th>\n",
       "    </tr>\n",
       "  </thead>\n",
       "  <tbody>\n",
       "    <tr>\n",
       "      <th>0</th>\n",
       "      <td>Order of the Phoenix</td>\n",
       "      <td>He zoomed higher, dodging a Bludger, and set o...</td>\n",
       "      <td>So that’s ten-nil to Slytherin — bad luck, Ron …</td>\n",
       "      <td>10705</td>\n",
       "      <td>Ron</td>\n",
       "    </tr>\n",
       "    <tr>\n",
       "      <th>1</th>\n",
       "      <td>Order of the Phoenix</td>\n",
       "      <td>He zoomed higher, dodging a Bludger, and set o...</td>\n",
       "      <td>— and Gryffindor back in possession and it’s K...</td>\n",
       "      <td>47999</td>\n",
       "      <td>Draco</td>\n",
       "    </tr>\n",
       "    <tr>\n",
       "      <th>2</th>\n",
       "      <td>Goblet of Fire</td>\n",
       "      <td>The crowd was making even more noise… Bagman w...</td>\n",
       "      <td>come on, come and get me… up you get now…</td>\n",
       "      <td>12266</td>\n",
       "      <td>Harry</td>\n",
       "    </tr>\n",
       "    <tr>\n",
       "      <th>3</th>\n",
       "      <td>Goblet of Fire</td>\n",
       "      <td>I know. Harry told the music, I know I mustn’t...</td>\n",
       "      <td>He was a real wizard, then?</td>\n",
       "      <td>43110</td>\n",
       "      <td>Harry</td>\n",
       "    </tr>\n",
       "    <tr>\n",
       "      <th>4</th>\n",
       "      <td>Order of the Phoenix</td>\n",
       "      <td>WEASLEY WILL MAKE SURE WE WIN, WEASLEY IS OUR ...</td>\n",
       "      <td>— Pucey throws to Warrington, Warrington to Mo...</td>\n",
       "      <td>11661</td>\n",
       "      <td>George</td>\n",
       "    </tr>\n",
       "  </tbody>\n",
       "</table>\n",
       "</div>"
      ],
      "text/plain": [
       "                   Book                                            Context  \\\n",
       "0  Order of the Phoenix  He zoomed higher, dodging a Bludger, and set o...   \n",
       "1  Order of the Phoenix  He zoomed higher, dodging a Bludger, and set o...   \n",
       "2        Goblet of Fire  The crowd was making even more noise… Bagman w...   \n",
       "3        Goblet of Fire  I know. Harry told the music, I know I mustn’t...   \n",
       "4  Order of the Phoenix  WEASLEY WILL MAKE SURE WE WIN, WEASLEY IS OUR ...   \n",
       "\n",
       "                                            Dialogue  __index_level_0__  \\\n",
       "0   So that’s ten-nil to Slytherin — bad luck, Ron …              10705   \n",
       "1  — and Gryffindor back in possession and it’s K...              47999   \n",
       "2          come on, come and get me… up you get now…              12266   \n",
       "3                        He was a real wizard, then?              43110   \n",
       "4  — Pucey throws to Warrington, Warrington to Mo...              11661   \n",
       "\n",
       "  Character  \n",
       "0       Ron  \n",
       "1     Draco  \n",
       "2     Harry  \n",
       "3     Harry  \n",
       "4    George  "
      ]
     },
     "execution_count": 4,
     "metadata": {},
     "output_type": "execute_result"
    }
   ],
   "source": [
    "df_phi = pd.read_csv(data_dir + \"dialogues_phi.csv\")\n",
    "\n",
    "print(len(df_phi))\n",
    "\n",
    "df_phi.head()"
   ]
  },
  {
   "cell_type": "code",
   "execution_count": 32,
   "metadata": {},
   "outputs": [
    {
     "name": "stdout",
     "output_type": "stream",
     "text": [
      "Character \u001b[33mGinny\u001b[39m said: Surely you did not use it all? I told you that three drops would be sufficient.” Umbridge flushed. “\u001b[33m\u001b[1m\u001b[40mYou can make some more, can’t you?\u001b[39m\u001b[0m\u001b[49m” she said, her voice becoming more sweetly girlish as it always did when she was furious. “Certainly,” said Snape, his lip curling. “It takes a full moon cycle to mature, so I should have it ready for you in around a month.” “A month?” squawked Umbridge, swelling toadishly.\n",
      "Character \u001b[34mCedric Diggory\u001b[39m said: nblinkingly upon Harry’s face. “Voldemort’s back, Harry? You’re sure he’s back? How did he do it?” “\u001b[34m\u001b[1m\u001b[40mHe took stuff from his father’s grave, and from Wormtail, and me,\u001b[39m\u001b[0m\u001b[49m” said Harry. His head felt clearer; his scar wasn’t hurting so badly; he could now see Moodys face distinctly, even though the office was dark. He could still hear screaming and shouting from the distant Quidditch field.\n",
      "Character \u001b[32mThe big man\u001b[39m said: ptives were brought forth. “The boy was the Imp’s own squire, m’lady,” he said to Lady Stoneheart. “\u001b[32m\u001b[1m\u001b[40mT’other is one of Randyll Bloody Tarly’s bloody household knights.\u001b[39m\u001b[0m\u001b[49m” Hyle Hunt had been beaten so badly that his face was swollen almost beyond recognition. He stumbled as they shoved him, and almost fell. Podrick caught him by the arm.\n",
      "Character \u001b[33mHermione\u001b[39m said: ed, frowning. “You don’t think he could have mixed up the glasses by mistake? Meaning to get you?” “\u001b[33m\u001b[1m\u001b[40mWhy would Slughorn want to poison Harry?\u001b[39m\u001b[0m\u001b[49m” asked Ginny. “I dunno,” said Fred, “but there must be loads of people who’d like to poison Harry, mustn’t there? ‘The Chosen One’ and all that?” “So you think Slughorn’s a Death Eater?” said Ginny.\n",
      "Character \u001b[31mSamwell Tarly\u001b[39m said: ther wants to hear about.” Snow often meant death in the north. “Was there anything in Whitetree?” “\u001b[31m\u001b[1m\u001b[40mBones, ashes, and empty houses.\u001b[39m\u001b[0m\u001b[49m” Jon handed Sam the roll of parchment. “The Old Bear wants word sent back to Aemon.” Sam took a bird from one of the cages, stroked its feathers, attached the message, and said, “Fly home now, brave one. Home.” The raven quorked something unintelligible back at him, and Sam tossed it into the air.\n",
      "Character \u001b[96mSansa\u001b[39m said:  there was nothing but loathing there, nothing but the vilest contempt. “Then go,” he spit at her. “\u001b[96m\u001b[1m\u001b[40mAnd don’t touch me.\u001b[39m\u001b[0m\u001b[49m” EDDARD “They’ve found her, my lord.” Ned rose quickly. “Our men or Lannister’s?” “It was Jory,” his steward Vayon Poole replied. “She’s not been harmed.” “Thank the gods,” Ned said.\n",
      "Character \u001b[32mTom\u001b[39m said: “He dared — he dares —” shrieked Bellatrix incoherently. “— He stands there — filthy half-blood —” “\u001b[32m\u001b[1m\u001b[40mWAIT UNTIL WE’VE GOT THE PROPHECY!\u001b[39m\u001b[0m\u001b[49m” bawled Malfoy. “… and none will come after …” said the figure of a young woman. The two figures that had burst from the shattered spheres had melted into thin air.\n",
      "Character \u001b[95mDaario Naharis\u001b[39m said: he skulls of the Targaryen dragons were emerging from the darkness around them, black amidst grey. “\u001b[95m\u001b[1m\u001b[40mDay comes too soon.\u001b[39m\u001b[0m\u001b[49m” A new day. A new year. A new century.\n",
      "Character \u001b[96mTattered Prince\u001b[39m said: sins, Dany’s bloodrider Jhogo, her admiral Groleo, the Unsullied captain Hero, and Daario Naharis. “\u001b[96m\u001b[1m\u001b[40mI will leave my girls with you,\u001b[39m\u001b[0m\u001b[49m” her captain had said, handing her his sword belt and its gilded wantons. “Keep them safe for me, beloved. We would not want them making bloody mischief amongst the Yunkai’i.” The Shavepate was absent as well.\n",
      "Character \u001b[96mDumbledore\u001b[39m said: ace the third brother had died.” “So it’s true?” asked Harry. “All of it? The Peverell brothers –” “\u001b[96m\u001b[1m\u001b[40m—were the three brothers of the tale,\u001b[39m\u001b[0m\u001b[49m” said Dumbledore, nodding. “Oh yes, I think so. Whether they met Death on a lonely road.\n",
      "Character \u001b[92mKhal Drogo\u001b[39m said: place of walls, some palaces were surrounded by thorny hedges. “None of them are alike,” she said. “\u001b[92m\u001b[1m\u001b[40mYour brother had part of the truth,\u001b[39m\u001b[0m\u001b[49m” Ser Jorah admitted. “The Dothraki do not build. A thousand years ago, to make a house, they would dig a hole in the earth and cover it with a woven grass roof.\n",
      "Character \u001b[95mHermione\u001b[39m said:  nuthin’,” said Hagrid firmly. “Want a cuppa?” “Come off it,” said Ron, “you’re in a right state!” “\u001b[95m\u001b[1m\u001b[40mI’m tellin’ yeh, I’m fine,\u001b[39m\u001b[0m\u001b[49m” said Hagrid, straightening up and turning to beam at them all, but wincing. “Blimey, it’s good ter see you three again — had good summers, did yeh?” “Hagrid, you’ve been attacked!” said Ron. “Fer the las’ time, it’s nuthin’!” said Hagrid firmly.\n",
      "Character \u001b[35mGeorge\u001b[39m said:  noticed how much they were helping him, when he ought to be working out how to do the task alone? “\u001b[35m\u001b[1m\u001b[40mWe’ll meet you back in the common room,\u001b[39m\u001b[0m\u001b[49m” Hermione told Harry as she got up to go with Ron - both of them looked very anxious. “Bring as many of these books as you can, okay?” “Right,” said Harry uneasily. By eight o’clock Madam Pince had extinguished all the lamps and came to chivvy Harry out of the library.\n",
      "Character \u001b[91mLady Waynwood\u001b[39m said: look. Hunter drained his wine cup and held it out to be refilled. “Lord Baelish,” Ser Symond said, “\u001b[91m\u001b[1m\u001b[40myou must forgive us that display.\u001b[39m\u001b[0m\u001b[49m” “Must I?” Littlefinger’s voice had grown cold. “You brought him here, my lords.” Bronze Yohn said, “It was never our intent—” “You brought him here. I would be well within my rights to call my guards and have all of you arrested.” Hunter lurched to his feet so wildly that he almost knocked the flagon out of Alayne’s hands.\n",
      "Character \u001b[93mMary\u001b[39m said: ith her arms folded in front of the portrait of the Fat Lady, at the entrance to Gryffindor Tower. “\u001b[93m\u001b[1m\u001b[40mI only came out because Mary told me you were threatening to sleep here.\u001b[39m\u001b[0m\u001b[49m” “I was. I would have done. I never meant to call you Mudblood, it just – ” “Slipped out?” There was no pity in Lily’s voice.\n",
      "Character \u001b[39mHarry\u001b[39m said: red. “Someone attacking you, Harry?” Seamus asked sleepily. “No, it’s just Dobby,” Harry muttered. “\u001b[39m\u001b[1m\u001b[40mGo back to sleep.\u001b[39m\u001b[0m\u001b[49m” “Nah… presents!” said Seamus, spotting the large pile at the foot of his bed. Ron, Dean, and Neville decided that now they were awake they might as well get down to some present-opening too. Harry turned back to Dobby, who was now standing nervously next to Harrys bed, still looking worried that he had upset Harry.\n",
      "Character \u001b[36mCatelyn\u001b[39m said:  snake, but she forced herself to smile at this man she loved, this man who put no faith in signs. “\u001b[36m\u001b[1m\u001b[40mI knew that would please you,\u001b[39m\u001b[0m\u001b[49m” she said. “We should send word to your brother on the Wall.” “Yes, of course,” he agreed. “Ben will want to be here.\n",
      "Character \u001b[90mProfessor\u001b[39m said: eplaced, as ] am sure you also saw, by Rufus Scrimgeour, who used to be Head of the Auror office.” “\u001b[90m\u001b[1m\u001b[40mIs he… Do you think he’s good?\u001b[39m\u001b[0m\u001b[49m” asked Harry. “An interesting question,” said Dumbledore. “He is able, certainly.\n",
      "Character \u001b[91mHermione\u001b[39m said: people to give back whatever they’ve nicked, and see if they chuck it out. Best you can do, mate.” “\u001b[91m\u001b[1m\u001b[40mThere’s a way of doing it!\u001b[39m\u001b[0m\u001b[49m” Hermione said crossly. “There just has to be!” She seemed to be taking the library’s lack of useful information on the subject as a personal insult; it had never failed her before. “I know what I should have done,” said Harry, resting, face-down, on Saucy Tricks for Tricky Sorts.\n",
      "Character \u001b[37mEddard Stark\u001b[39m said: ll who turned to Tyrion and asked the question. “Do you have a champion to defend your innocence?” “\u001b[37m\u001b[1m\u001b[40mHe does, my lord.\u001b[39m\u001b[0m\u001b[49m” Prince Oberyn of Dorne rose to his feet. “The dwarf has quite convinced me.” The uproar was deafening. Tyrion took especial pleasure in the sudden doubt he glimpsed in Cersei’s eyes.\n"
     ]
    }
   ],
   "source": [
    "df_sub = df_phi.sample(20)\n",
    "\n",
    "colors = list(vars(Fore).values())\n",
    "\n",
    "for i, row in df_sub.iterrows():\n",
    "    _, context, dialogue, _, character = row\n",
    "\n",
    "    # get start  and end index of the dialogue in the context\n",
    "    start_idx = context.index(dialogue)\n",
    "    end_idx = start_idx + len(dialogue)\n",
    "\n",
    "    rnd_color = colors[i % len(colors)]\n",
    "    colored_text = \"Character \" + rnd_color + character + Fore.RESET + \" said: \"\n",
    "    colored_text += (\n",
    "        context[start_idx - 100 : start_idx]\n",
    "        + rnd_color\n",
    "        + Style.BRIGHT\n",
    "        + Back.BLACK\n",
    "        + dialogue\n",
    "        + Fore.RESET\n",
    "        + Style.RESET_ALL\n",
    "        + Back.RESET\n",
    "        + context[end_idx:]\n",
    "    )\n",
    "\n",
    "    print(colored_text)"
   ]
  },
  {
   "cell_type": "code",
   "execution_count": null,
   "metadata": {},
   "outputs": [],
   "source": []
  }
 ],
 "metadata": {
  "kernelspec": {
   "display_name": ".venv",
   "language": "python",
   "name": "python3"
  },
  "language_info": {
   "codemirror_mode": {
    "name": "ipython",
    "version": 3
   },
   "file_extension": ".py",
   "mimetype": "text/x-python",
   "name": "python",
   "nbconvert_exporter": "python",
   "pygments_lexer": "ipython3",
   "version": "3.11.0"
  }
 },
 "nbformat": 4,
 "nbformat_minor": 2
}
