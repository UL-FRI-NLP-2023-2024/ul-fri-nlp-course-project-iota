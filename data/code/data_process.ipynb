{
 "cells": [
  {
   "cell_type": "code",
   "execution_count": 13,
   "metadata": {},
   "outputs": [],
   "source": [
    "import os\n",
    "import re\n",
    "\n",
    "import pandas as pd"
   ]
  },
  {
   "cell_type": "code",
   "execution_count": 14,
   "metadata": {},
   "outputs": [],
   "source": [
    "data_path = \"./../books/asoif/\"\n",
    "files = os.listdir(data_path)\n",
    "files = [data_path + file for file in files]"
   ]
  },
  {
   "cell_type": "code",
   "execution_count": 15,
   "metadata": {},
   "outputs": [],
   "source": [
    "def extract_dialogues_with_context(filepath, context_length=100):\n",
    "    with open(filepath, \"r\", encoding=\"utf-8\") as file:\n",
    "        text = file.read()\n",
    "\n",
    "    pattern = rf\"(.{{0,{context_length}}})(“([^”]+)”)(.{{0,{context_length}}})\"\n",
    "    matches = re.finditer(pattern, text, re.DOTALL)\n",
    "\n",
    "    results = []\n",
    "    for match in matches:\n",
    "        pre_context = match.group(1).strip()\n",
    "        dialogue = match.group(3).strip()  # Group 3 is the actual dialogue within quotes\n",
    "        post_context = match.group(4).strip()\n",
    "        results.append({\"pre_context\": pre_context, \"dialogue\": dialogue, \"post_context\": post_context})\n",
    "\n",
    "    return results"
   ]
  },
  {
   "cell_type": "code",
   "execution_count": 16,
   "metadata": {},
   "outputs": [
    {
     "data": {
      "text/html": [
       "<div>\n",
       "<style scoped>\n",
       "    .dataframe tbody tr th:only-of-type {\n",
       "        vertical-align: middle;\n",
       "    }\n",
       "\n",
       "    .dataframe tbody tr th {\n",
       "        vertical-align: top;\n",
       "    }\n",
       "\n",
       "    .dataframe thead th {\n",
       "        text-align: right;\n",
       "    }\n",
       "</style>\n",
       "<table border=\"1\" class=\"dataframe\">\n",
       "  <thead>\n",
       "    <tr style=\"text-align: right;\">\n",
       "      <th></th>\n",
       "      <th>pre_context</th>\n",
       "      <th>dialogue</th>\n",
       "      <th>post_context</th>\n",
       "    </tr>\n",
       "  </thead>\n",
       "  <tbody>\n",
       "    <tr>\n",
       "      <th>0</th>\n",
       "      <td>that, word of summer’s end. Omens, all. Too ma...</td>\n",
       "      <td>Maester Cressen, we have visitors.</td>\n",
       "      <td>Pylos spoke softly, as if loath to disturb Cre...</td>\n",
       "    </tr>\n",
       "    <tr>\n",
       "      <th>1</th>\n",
       "      <td>illed his head, he would have shouted.</td>\n",
       "      <td>The princess would see the white raven.</td>\n",
       "      <td>Ever correct, Pylos called her princess now, a...</td>\n",
       "    </tr>\n",
       "    <tr>\n",
       "      <th>2</th>\n",
       "      <td>in the great salt sea, yet a king nonetheless.</td>\n",
       "      <td>Her fool is with her.</td>\n",
       "      <td>The old man turned away from the dawn, keeping...</td>\n",
       "    </tr>\n",
       "    <tr>\n",
       "      <th>3</th>\n",
       "      <td>and sooner than he would like . . .\\n\\nHe let ...</td>\n",
       "      <td>Go bring her. It is ill to keep a lady waiting.</td>\n",
       "      <td>He waved a hand, a feeble gesture of haste fro...</td>\n",
       "    </tr>\n",
       "    <tr>\n",
       "      <th>4</th>\n",
       "      <td>the bells rang, each with a different voice, c...</td>\n",
       "      <td>Who comes to see us so early, Pylos?</td>\n",
       "      <td>Cressen said.\\n\\n“It’s me and Patches, Maester...</td>\n",
       "    </tr>\n",
       "  </tbody>\n",
       "</table>\n",
       "</div>"
      ],
      "text/plain": [
       "                                         pre_context  \\\n",
       "0  that, word of summer’s end. Omens, all. Too ma...   \n",
       "1             illed his head, he would have shouted.   \n",
       "2     in the great salt sea, yet a king nonetheless.   \n",
       "3  and sooner than he would like . . .\\n\\nHe let ...   \n",
       "4  the bells rang, each with a different voice, c...   \n",
       "\n",
       "                                          dialogue  \\\n",
       "0               Maester Cressen, we have visitors.   \n",
       "1          The princess would see the white raven.   \n",
       "2                            Her fool is with her.   \n",
       "3  Go bring her. It is ill to keep a lady waiting.   \n",
       "4             Who comes to see us so early, Pylos?   \n",
       "\n",
       "                                        post_context  \n",
       "0  Pylos spoke softly, as if loath to disturb Cre...  \n",
       "1  Ever correct, Pylos called her princess now, a...  \n",
       "2  The old man turned away from the dawn, keeping...  \n",
       "3  He waved a hand, a feeble gesture of haste fro...  \n",
       "4  Cressen said.\\n\\n“It’s me and Patches, Maester...  "
      ]
     },
     "execution_count": 16,
     "metadata": {},
     "output_type": "execute_result"
    }
   ],
   "source": [
    "dfs = []\n",
    "\n",
    "for file in files:\n",
    "    dfs.extend(extract_dialogues_with_context(file))\n",
    "\n",
    "df = pd.DataFrame(dfs)\n",
    "\n",
    "df.head()"
   ]
  },
  {
   "cell_type": "code",
   "execution_count": 19,
   "metadata": {},
   "outputs": [
    {
     "name": "stdout",
     "output_type": "stream",
     "text": [
      "(20304, 3)\n",
      "['Myself as well. Seventy-seven courses, I daresay. Don’t you find that a bit excessive, my lord? I shan’t eat more than three or four bites myself, but you and I are very little, aren’t we?'\n",
      " 'Have I lost my wits, or did my sister just kiss me?'\n",
      " 'We want Cersei to have every faith in you. Go back and tell her I beg her forgiveness. Tell her that you frightened me, that I want no conflict between us, that henceforth I shall do nothing without her consent.'\n",
      " 'This is Valyrian steel,'\n",
      " 'Don’t bandy words with this one, Lord Snow, she’s too clever for the likes o’ you and me. Best steal her quick, before Toregg wakes up and takes her first.'\n",
      " 'The boy is innocent.' 'Hold. You gave Styr his style, give me mine.'\n",
      " 'I am not the one you were told to bring,'\n",
      " 'R’hllor, come to us in our darkness,'\n",
      " 'Come inside. The rest of you, wait here.'\n",
      " 'That was only half my vow. I told Lady Catelyn I would bring her back her daughters. Or Sansa, at the least. And now…'\n",
      " 'Speak nothing but courtesies unless Ser Rodrik or Lord Wyman puts you a question.'\n",
      " 'Lord Eddard,' 'Was the mother questioned?' 'I’m going in,'\n",
      " 'I yield, my lord.'\n",
      " 'This is the first I have heard of a new master-at-arms. You’ll need to look long and hard to find a better jouster than Loras Tyrell. Ser Loras is—'\n",
      " 'Snow,'\n",
      " 'I may be craven, but I’m not stupid. I’m sore and my back aches from riding and from sleeping on the ground, but I’m hardly scared at all. Look.'\n",
      " 'Why?']\n"
     ]
    }
   ],
   "source": [
    "print(df.shape)\n",
    "print(df.sample(20)[\"dialogue\"].values)"
   ]
  },
  {
   "cell_type": "code",
   "execution_count": null,
   "metadata": {},
   "outputs": [],
   "source": []
  }
 ],
 "metadata": {
  "kernelspec": {
   "display_name": ".venv",
   "language": "python",
   "name": "python3"
  },
  "language_info": {
   "codemirror_mode": {
    "name": "ipython",
    "version": 3
   },
   "file_extension": ".py",
   "mimetype": "text/x-python",
   "name": "python",
   "nbconvert_exporter": "python",
   "pygments_lexer": "ipython3",
   "version": "3.11.0"
  }
 },
 "nbformat": 4,
 "nbformat_minor": 2
}
