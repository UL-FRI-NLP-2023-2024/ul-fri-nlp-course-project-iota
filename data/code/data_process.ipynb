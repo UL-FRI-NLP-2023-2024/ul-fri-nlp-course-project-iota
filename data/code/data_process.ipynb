{
 "cells": [
  {
   "cell_type": "code",
   "execution_count": 3,
   "metadata": {},
   "outputs": [],
   "source": [
    "import os\n",
    "import re"
   ]
  },
  {
   "cell_type": "code",
   "execution_count": 5,
   "metadata": {},
   "outputs": [],
   "source": [
    "data_path = \"./../books/asoif/\"\n",
    "files = os.listdir(data_path)\n",
    "files = [data_path + file for file in files]"
   ]
  },
  {
   "cell_type": "code",
   "execution_count": 4,
   "metadata": {},
   "outputs": [],
   "source": [
    "def extract_dialogues_with_context(filepath, context_length=100):\n",
    "    with open(filepath, 'r', encoding='utf-8') as file:\n",
    "        text = file.read()\n",
    "\n",
    "    pattern = fr'(.{{0,{context_length}}})(“([^”]+)”)(.{{0,{context_length}}})'\n",
    "    matches = re.finditer(pattern, text, re.DOTALL)\n",
    "\n",
    "    results = []\n",
    "    for match in matches:\n",
    "        pre_context = match.group(1).strip()\n",
    "        dialogue = match.group(3).strip()  # Group 3 is the actual dialogue within quotes\n",
    "        post_context = match.group(4).strip()\n",
    "        results.append((pre_context, dialogue, post_context))\n",
    "\n",
    "    return results"
   ]
  },
  {
   "cell_type": "code",
   "execution_count": 7,
   "metadata": {},
   "outputs": [
    {
     "data": {
      "text/plain": [
       "[]"
      ]
     },
     "execution_count": 7,
     "metadata": {},
     "output_type": "execute_result"
    }
   ],
   "source": [
    "extract_dialogues_with_context(files[0])"
   ]
  },
  {
   "cell_type": "code",
   "execution_count": null,
   "metadata": {},
   "outputs": [],
   "source": []
  }
 ],
 "metadata": {
  "kernelspec": {
   "display_name": ".venv",
   "language": "python",
   "name": "python3"
  },
  "language_info": {
   "codemirror_mode": {
    "name": "ipython",
    "version": 3
   },
   "file_extension": ".py",
   "mimetype": "text/x-python",
   "name": "python",
   "nbconvert_exporter": "python",
   "pygments_lexer": "ipython3",
   "version": "3.11.0"
  }
 },
 "nbformat": 4,
 "nbformat_minor": 2
}
