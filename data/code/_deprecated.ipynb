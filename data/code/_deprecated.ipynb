{
 "cells": [
  {
   "cell_type": "code",
   "execution_count": null,
   "metadata": {},
   "outputs": [
    {
     "name": "stderr",
     "output_type": "stream",
     "text": [
      "/Users/janvasiljevic/Faks/NLP/ul-fri-nlp-course-project-iota/.venv/lib/python3.11/site-packages/huggingface_hub/file_download.py:1132: FutureWarning: `resume_download` is deprecated and will be removed in version 1.0.0. Downloads always resume when possible. If you want to force a new download, use `force_download=True`.\n",
      "  warnings.warn(\n"
     ]
    }
   ],
   "source": [
    "from transformers import BartForConditionalGeneration, BartTokenizer\n",
    "\n",
    "model_name = \"facebook/bart-large-cnn\"\n",
    "model = BartForConditionalGeneration.from_pretrained(model_name)\n",
    "tokenizer = BartTokenizer.from_pretrained(model_name)"
   ]
  },
  {
   "cell_type": "code",
   "execution_count": null,
   "metadata": {},
   "outputs": [
    {
     "name": "stdout",
     "output_type": "stream",
     "text": [
      "{'Tyrion': ['The tall boy beside him could only be the crown prince, and that stunted little man behind them was surely the Imp, Tyrion Lannister.\\n\\n', 'Tyrion Lannister, the youngest of Lord Tywin’s brood and by far the ugliest.', 'All that the gods had given to Cersei and Jaime, they had denied Tyrion.'], 'Jon': ['Robb and Jon sat tall and still on their horses, with Bran between them on his pony, trying to seem older than seven, trying to pretend that he’d seen all this before.', 'Bran’s bastard brother Jon Snow moved closer.', '“Ass,” Jon muttered, low enough so Greyjoy did not hear.', '“You did well,” Jon told him solemnly.', 'Jon was fourteen, an old hand at justice.\\n\\n', '“No,” Jon Snow said quietly.', 'Jon’s eyes were a grey so dark they seemed almost black, but there was little they did not see.', 'Jon was slender where Robb was muscular, dark where Robb was fair, graceful and quick where his half brother was strong and fast.\\n\\n', 'Race you to the bridge?”\\n\\n“Done,” Jon said, kicking his horse forward.', 'Robb cursed and followed, and they galloped off down the trail, Robb laughing and hooting, Jon silent and intent.', '“Robb says the man died bravely, but Jon says he was afraid.”\\n\\n“What do you think?”', 'That was when Jon reappeared on the crest of the hill before them.', 'They found Robb on the riverbank north of the bridge, with Jon still mounted beside him.', 'By then Jon, Jory, and Theon Greyjoy had all dismounted as well.', '“It’s no freak,” Jon said calmly.', '“I see one now,” Jon replied.\\n\\n', 'Bran gave the pup a quick nervous stroke, then turned as Jon said, “Here you go.”', '“She’ll rip them apart when they try to nurse.”\\n\\n“Lord Stark,” Jon said.', '“Three male, two female.”\\n\\n“What of it, Jon?”\\n\\n“You have five trueborn children,” Jon said.', 'He loved Jon with all his heart at that moment.', 'The count had come right only because Jon had omitted himself.', '“You want no pup for yourself, Jon?” he asked softly.\\n\\n', '“The direwolf graces the banners of House Stark,” Jon pointed out.', 'Their lord father regarded Jon thoughtfully.', 'Halfway across the bridge, Jon pulled up suddenly.\\n\\n', '“What is it, Jon?” their lord father asked.\\n\\n', '“Can’t you hear it?”\\n\\nBran could hear the wind in the trees, the clatter of their hooves on the ironwood planks, the whimpering of his hungry pup, but Jon was listening to something else.\\n\\n', '“There,” Jon said.', '“He must have crawled away from the others,” Jon said.\\n\\n', 'Jon Snow gave his father’s ward a long, chilling look.', 'Jon Arryn is dead.”\\n\\n', '“Jon …” he said.', 'Even Maester Pycelle was helpless, but he brought the milk of the poppy, so Jon did not linger long in pain.”\\n\\n', '“And Jon’s boy.', 'Lord Jon’s memory will haunt each stone.', 'Jon named him Knight of the Gate, I’d heard.”\\n\\nCatelyn nodded.', 'When the king did not answer, he said, “Tell me about Jon.”\\n\\n', 'If you had seen Jon then, you would have sworn he would live forever.', '“I think losing Jon has driven the woman mad, Ned.', 'Jon had no brothers, no other sons.', 'Men like Jon Arryn.', 'Surely you owe Jon that much for his service.”\\n\\n', '“Jon’s service was the duty he owed his liege lord.', 'JON\\n\\n\\n\\n\\nThere were times—not many, but a few—when Jon Snow was glad he was a bastard.', 'Jon’s brothers and sisters had been seated with the royal children, beneath the raised platform where Lord and Lady Stark hosted the king and queen.', 'Down here on the benches, there was no one to stop Jon drinking as much as he had a thirst for.\\n\\n', 'They were fine company, and Jon relished the stories they were telling, tales of battle and bedding and the hunt.', 'The procession had passed not a foot from the place he had been given on the bench, and Jon had gotten a good long look at them all.\\n\\n', 'Even at fourteen, Jon could see through her smile.\\n\\n', 'The king was a great disappointment to Jon.', 'Jon saw only a fat man, red-faced under his beard, sweating through his silks.', 'Jon had to urge him on when he stopped to visit.', 'Jon noticed the shy looks she gave Robb as they passed between the tables and the timid way she smiled at him.', 'He was twelve, younger than Jon or Robb, but taller than either, to Jon’s vast dismay.', 'Sansa looked radiant as she walked beside him, but Jon did not like Joffrey’s pouty lips or the bored, disdainful way he looked at Winterfell’s Great Hall.\\n\\n', 'Jon found it hard to look away from him.', 'Jon watched him with fascination.\\n\\n', 'Benjen gave Jon a warm smile as he went by.', 'Jon had started drinking then, and he had not stopped.\\n\\n', 'Jon saw red eyes staring up at him.', 'Jon reached out to tear off a leg, then had a better idea.', 'His brothers and sisters had not been permitted to bring their wolves to the banquet, but there were more curs than Jon could count at this end of the hall, and no one had said a word about his pup.', 'Jon rubbed at them savagely, cursing the smoke.', 'Jon watched the confrontation.', 'Jon grinned and reached under the table to ruffle the shaggy white fur.', 'Jon looked up happily as his uncle Ben put a hand on his head and ruffled his hair much as Jon had ruffled the wolf’s.', 'Benjen Stark straddled the bench with long legs and took the wine cup out of Jon’s hand.'], 'Arya': ['“Arya is already in love, and Sansa is charmed and gracious, but Rickon is not quite sure.”\\n\\n“Is he afraid?”', 'Arya was paired with plump young Tommen, whose white-blond hair was longer than hers.'], 'Sansa': ['“Arya is already in love, and Sansa is charmed and gracious, but Rickon is not quite sure.”\\n\\n“Is he afraid?”', 'My Joff and your Sansa shall join our houses, as Lyanna and I might once have done.”\\n\\n', '“Sansa is only eleven.”\\n\\n', 'Sansa, two years older, drew the crown prince, Joffrey Baratheon.', 'Sansa looked radiant as she walked beside him, but Jon did not like Joffrey’s pouty lips or the bored, disdainful way he looked at Winterfell’s Great Hall.\\n\\n'], 'Bran': ['Branches stirred gently in the wind, scratching at one another with wooden fingers.', 'They set forth at daybreak to see a man beheaded, twenty in all, and Bran rode among them, nervous with excitement.', 'It was the ninth year of summer, and the seventh of Bran’s life.\\n\\n', 'It made Bran’s skin prickle to think of it.', 'Robb and Jon sat tall and still on their horses, with Bran between them on his pony, trying to seem older than seven, trying to pretend that he’d seen all this before.', 'Bran’s father sat solemnly on his horse, long brown hair stirring in the wind.', 'He had taken off Father’s face, Bran thought, and donned the face of Lord Stark of Winterfell.\\n\\n', 'There were questions asked and answers given there in the chill of morning, but afterward Bran could not recall much of what had been said.', 'Bran’s bastard brother Jon Snow moved closer.', 'Bran kept his pony well in hand, and did not look away.\\n\\n', 'Bran could not take his eyes off the blood.', 'He put a hand on Bran’s shoulder, and Bran looked over at his bastard brother.', 'Bran rode with his brothers, well ahead of the main party, his pony struggling hard to keep up with their horses.\\n\\n', 'Bran did not try to follow.', '“Are you well, Bran?” he asked, not unkindly.\\n\\n', '“Yes, Father,” Bran told him.', 'Bran thought about it.', '“Do you understand why I did it?”\\n\\n“He was a wildling,” Bran said.', 'Bran had no answer for that.', '“One day, Bran, you will be Robb’s bannerman, holding a keep of your own for your brother and your king, and justice will fall to you.', '“Father, Bran, come quickly, see what Robb has found!”', 'Jory and Bran and the rest came after.\\n\\n', 'Bran heard the breath go out of him.', 'Bran was afire with curiosity by then.', 'Bran jumped off and ran.\\n\\n', 'Bran’s heart was thumping in his chest as he pushed through a waist-high drift to his brothers’ side.\\n\\n', 'Bran glimpsed blind eyes crawling with maggots, a wide mouth full of yellowed teeth.', 'Bran tore his eyes away from the monster.', 'Bran reached out hesitantly.', 'Bran gave the pup a quick nervous stroke, then turned as Jon said, “Here you go.”', 'Bran sat down in the snow and hugged the wolf pup to his face.', 'Even Bran could sense their fear, though he did not understand.\\n\\n', 'Bran gave a wordless cry of dismay.\\n\\n', '“Give the beast here, Bran.”\\n\\n', 'Bran cried out fiercely.', 'Bran looked to his lord father for rescue, but got only a frown, a furrowed brow.', 'Bran looked at him with desperate hope.', 'Bran saw his father’s face change, saw the other men exchange glances.', 'Even at seven, Bran understood what his brother had done.', 'Bran echoed.\\n\\n', 'Is that understood?”\\n\\nBran nodded eagerly.', 'Are you sure you want this?”\\n\\n“Yes, Father,” Bran said.\\n\\n', 'It was not until they were mounted and on their way that Bran allowed himself to taste the sweet air of victory.', 'Bran was wondering what to name him.\\n\\n', '“Can’t you hear it?”\\n\\nBran could hear the wind in the trees, the clatter of their hooves on the ironwood planks, the whimpering of his hungry pup, but Jon was listening to something else.\\n\\n', 'Bran thought it curious that this pup alone would have opened his eyes while the others were still blind.\\n\\n', 'They had seen Brandon the Builder set the first stone, if the tales were true; they had watched the castle’s granite walls rise around them.', '“I was glad for Bran’s sake.', 'You would have been proud of Bran.”\\n\\n', '“I am always proud of Bran,” Catelyn replied, watching the sword as he stroked it.', '“The same age as Bran.', '“She is down at the end, with Father and Brandon.”\\n\\n', 'Brandon had been twenty when he died, strangled by order of the Mad King Aerys Targaryen only a few short days before he was to wed Catelyn Tully of Riverrun.', '“She wanted to come home, to rest beside Brandon and Father.”'], 'Cersei': ['Cersei and the children travel with them.”\\n\\n', 'Robert’s queen, Cersei Lannister, entered on foot with her younger children.', 'Cersei was furious.”', 'Ser Jaime Lannister was twin to Queen Cersei; tall and golden, with flashing green eyes and a smile that cut like a knife.', 'All that the gods had given to Cersei and Jaime, they had denied Tyrion.'], 'Jaime': ['There came Ser Jaime Lannister with hair as bright as beaten gold, and there Sandor Clegane with his terrible burned face.', 'She had said no more than that; Robert had looked at her, and her twin brother Jaime had taken her quietly by the arm, and she had said no more.\\n\\n', 'Ser Jaime Lannister was twin to Queen Cersei; tall and golden, with flashing green eyes and a smile that cut like a knife.', 'All that the gods had given to Cersei and Jaime, they had denied Tyrion.'], 'Daenerys': ['Viserys had been a boy of eight when they fled King’s Landing to escape the advancing armies of the Usurper, but Daenerys had been only a quickening in their mother’s womb.\\n\\n', 'All that Daenerys wanted back was the big house with the red door, the lemon tree outside her window, the childhood she had never known.\\n\\n', 'The water was scalding hot, but Daenerys did not flinch or cry out.', 'Daenerys said nothing.', '“May the Lord of Light shower you with blessings on this most fortunate day, Princess Daenerys,” the magister said as he took her hand.', 'When he released her hand, Daenerys found herself trembling.\\n\\n', 'The curtains were thrown back, and a slave offered a hand to help Daenerys out.', 'His sister, Daenerys Stormborn, Princess of Dragonstone.', 'Daenerys looked at them all in wonder … and realized, with a sudden start of fear, that she was the only woman there.\\n\\n', 'The last name caught Daenerys.', 'Daenerys smiled, and stood up straight.\\n\\n\\n\\n\\n\\n'], 'Robert': ['“For Robert!”', 'He took hold of Ice with both hands and said, “In the name of Robert of the House Baratheon, the First of his Name, King of the Andals and the Rhoynar and the First Men, Lord of the Seven Kingdoms and Protector of the Realm, by the word of Eddard of the House Stark, Lord of Winterfell and Warden of the North, I do sentence you to die.”', '“King Robert has a headsman,” he said, uncertainly.\\n\\n', 'In his youth, Ned had fostered at the Eyrie, and the childless Lord Arryn had become a second father to him and his fellow ward, Robert Baratheon.', '“Is this news certain?”\\n\\n“It was the king’s seal, and the letter is in Robert’s own hand.', '“Robert is coming here?”', '“Robert will keep an easy pace for their sakes,” he said.', 'The Lannisters of Casterly Rock had come late to Robert’s cause, when victory was all but certain, and he had never forgiven them.', '“Well, if the price for Robert’s company is an infestation of Lannisters, so be it.', 'It sounds as though Robert is bringing half his court.”\\n\\n', '“There must be a feast, of course, with singers, and Robert will want to hunt.', 'Since the night they had stood side by side in Greyjoy’s fallen stronghold, where Robert had accepted the rebel lord’s surrender and Ned had taken his son Theon as hostage and ward, the king had gained at least eight stone.', 'Yet Robert was Ned’s king now, and not just a friend, so he said only, “Your Grace.', 'Robert’s queen, Cersei Lannister, entered on foot with her younger children.', 'Ned knelt in the snow to kiss the queen’s ring, while Robert embraced Catelyn like a long-lost sister.', 'She had said no more than that; Robert had looked at her, and her twin brother Jaime had taken her quietly by the arm, and she had said no more.\\n\\n', '“I was starting to think we would never reach Winterfell,” Robert complained as they descended.', '“In the south, the way they talk about my Seven Kingdoms, a man forgets that your part is as big as the other six combined.”\\n\\n“I trust you enjoyed the journey, Your Grace?”\\n\\nRobert snorted.', 'Robert snorted.', '“The Others take your mild snows,” Robert swore.', '“You need to come south,” Robert told him.', 'Robert Baratheon had always been a man of huge appetites, a man who knew how to take his pleasures.', 'Robert was breathing heavily by the time they reached the bottom of the stairs, his face red in the lantern light as they stepped out into the darkness of the crypt.\\n\\n', 'He led the way between the pillars and Robert followed wordlessly, shivering in the subterranean chill.', 'Robert nodded silently, knelt, and bowed his head.\\n\\n', 'Robert had loved her even more.', '“Only once,” Robert said bitterly.\\n\\n', 'They had come together at the ford of the Trident while the battle crashed around them, Robert with his warhammer and his great antlered helm, the Targaryen prince armored all in black.', 'The waters of the Trident ran red around the hooves of their destriers as they circled and clashed, again and again, until at last a crushing blow from Robert’s hammer stove in the dragon and the chest beneath it.', '“In my dreams, I kill him every night,” Robert admitted.', '“The Others take my wife,” Robert muttered sourly, but he started back the way they had come, his footsteps falling heavily.', 'Robert shook his head.', 'How does Lysa bear her grief?”\\n\\nRobert’s mouth gave a bitter twist.', 'Robert Arryn.', 'Robert laughed, the sound rattling among the tombs and bouncing from the vaulted ceiling.', 'Benjen says—”\\n\\n“No doubt I will hear what your brother says soon enough,” Robert said.', '“His son will succeed to the Eyrie and all its incomes,” Robert said brusquely.', '“Perhaps when he comes of age, the honor can be restored to him,” Robert said.', 'Robert grasped Ned by the elbow.', 'Robert scarcely seemed to hear him.', 'Robert looked off into the darkness, for a moment as melancholy as a Stark.', 'Robert looked at him.', 'The offer did not surprise him; what other reason could Robert have had for coming so far?', 'Robert was offering him a responsibility as large as the realm itself.\\n\\n', 'Robert groaned with good-humored impatience.', 'Robert waved an impatient hand.', 'Next had come King Robert himself, with Lady Stark on his arm.', 'His father had talked of him often: the peerless Robert Baratheon, demon of the Trident, the fiercest warrior of the realm, a giant among princes.'], 'Ned': ['For her sake, Ned had built a small sept where she might sing to the seven faces of god, but the blood of the First Men still flowed in the veins of the Starks, and his own gods were the old ones, the nameless, faceless gods of the greenwood they shared with the vanished children of the forest.\\n\\n', '“The heart tree,” Ned called it.', '“Ned,” she called softly.\\n\\n', 'Ned asked.\\n\\n', 'Ned frowned.', '“The man died well, I’ll give him that,” Ned said.', '“He was the fourth this year,” Ned said grimly.', 'Ned lifted Ice, looked down the cool steel length of it.', 'Ned saw the dread on her face.', 'In his youth, Ned had fostered at the Eyrie, and the childless Lord Arryn had become a second father to him and his fellow ward, Robert Baratheon.', 'And one day fifteen years ago, this second father had become a brother as well, as he and Ned stood together in the sept at Riverrun to wed two sisters, the daughters of Lord Hoster Tully.\\n\\n', 'That is some comfort, but still …”\\n\\n“Go to her,” Ned urged.', 'It took Ned a moment to comprehend her words, but when the understanding came, the darkness left his eyes.', 'Ned rose and pulled her to her feet.', 'Ned grimaced at that.', 'Please, Ned, guard your tongue.', 'Ned squeezed her hand.', 'Ned knew many of the riders.', 'Yet the huge man at the head of the column, flanked by two knights in the snow-white cloaks of the Kingsguard, seemed almost a stranger to Ned … until he vaulted off the back of his warhorse with a familiar roar, and crushed him in a bone-crunching hug.', '“Ned! Ah, but it is good to see that frozen face of yours.”', 'Would that Ned had been able to say the same.', 'He’d had a giant’s strength too, his weapon of choice a spiked iron warhammer that Ned could scarcely lift.', 'Ned had last seen the king nine years before during Balon Greyjoy’s rebellion, when the stag and the direwolf had joined to end the pretensions of the self-proclaimed King of the Iron Islands.', 'Since the night they had stood side by side in Greyjoy’s fallen stronghold, where Robert had accepted the rebel lord’s surrender and Ned had taken his son Theon as hostage and ward, the king had gained at least eight stone.', 'Yet Robert was Ned’s king now, and not just a friend, so he said only, “Your Grace.', 'Ned knelt in the snow to kiss the queen’s ring, while Robert embraced Catelyn like a long-lost sister.', 'Ned loved him for that, for remembering her still after all these years.', 'They went down to the crypt together, Ned and this king he scarcely recognized.', 'Ned went first with the lantern.', 'Where are all your people?”\\n\\n“Likely they were too shy to come out,” Ned jested.', 'Snow, Ned!”', '“Late summer snows are common enough,” Ned said.', '“The winters are hard,” Ned admitted.', 'And you ought to see the towns, Ned!', '“And the girls, Ned!” he exclaimed, his eyes sparkling.', 'Yet Ned could not help but notice that those pleasures were taking a toll on the king.', '“Your Grace,” Ned said respectfully.', 'Ned wondered if that meant those ghosts were free to roam the castle now.', 'Ned stopped at last and lifted the oil lantern.', 'Ned did not like to think on that.', 'Lord Rickard Stark, Ned’s father, had a long, stern face.', 'Ned had loved her with all his heart.', '“Ah, damn it, Ned, did you have to bury her in a place like this?”', '“She deserved more than darkness …”\\n\\n“She was a Stark of Winterfell,” Ned said quietly.', '“I was with her when she died,” Ned reminded the king.', 'Promise me, Ned.', 'Ned remembered the way she had smiled then, how tightly her fingers had clutched his as she gave up her hold on life, the rose petals spilling from her palm, dead and black.', 'Ned could recall none of it.', '“You did,” Ned reminded him.\\n\\n', 'When Ned had finally come on the scene, Rhaegar lay dead in the stream, while men of both armies scrabbled in the swirling waters for rubies knocked free of his armor.\\n\\n', 'There was nothing Ned could say to that.', '“I had not forgotten,” Ned replied quietly.', 'Ned paused a moment.', '“I think losing Jon has driven the woman mad, Ned.', 'Was I supposed to leave him to be raised by women?”\\n\\nNed would sooner entrust a child to a pit viper than to Lord Tywin, but he left his doubts unspoken.', 'How can I do that if his mother steals him away?”\\n\\n“I will take him as ward, if you wish,” Ned said.', '“I have more concern for my nephew’s welfare than I do for Lannister pride,” Ned declared.\\n\\n', '“Ah, Ned,” he said, “you are still too serious.”', 'He put a massive arm around Ned’s shoulders.', 'The king kept his arm around Ned’s shoulder.', 'Ned had his suspicions, but he did not give them voice.', '“His son …” Ned began.\\n\\n', 'That took Ned by surprise.', 'A six-year-old boy is no war leader, Ned.”\\n\\n“In peace, the title is only an honor.', 'He took his arm from around Ned’s shoulders.', 'I am not ungrateful, Ned.', 'Robert grasped Ned by the elbow.', '“I have need of you, Ned.”\\n\\n“I am yours to command, Your Grace.', 'I want you at my side again, Ned.', 'It can drive a man to madness, Ned.', 'Ah, no, not truly, but …”\\n\\n“I understand,” Ned said softly.\\n\\n', 'Ned dropped to one knee.', '“You know the saying, about the king and his Hand?”\\n\\nNed knew the saying.', 'Ned was still on one knee, his eyes upraised.', '“Damn it, Ned,” the king complained.', '“They say it grows so cold up here in winter that a man’s laughter freezes in his throat and chokes him to death,” Ned said evenly.', '“Nothing would give me greater pleasure, Your Grace,” Ned answered.', 'The king reached down, clasped Ned by the hand, and pulled him roughly to his feet.']}\n"
     ]
    }
   ],
   "source": [
    "import spacy\n",
    "\n",
    "# Load models\n",
    "nlp = spacy.load(\"en_core_web_sm\")\n",
    "nlp.add_pipe(\"sentencizer\")\n",
    "\n",
    "\n",
    "def segment_text_by_character(text, characters):\n",
    "    character_segments = {character: [] for character in characters}\n",
    "\n",
    "    # cut text to [:10000] because of the model's input limit\n",
    "    text = text[:100000]\n",
    "\n",
    "    doc = nlp(text)\n",
    "    for sent in doc.sents:\n",
    "        for character in characters:\n",
    "            if character in sent.text:\n",
    "                character_segments[character].append(sent.text)\n",
    "    return character_segments\n",
    "\n",
    "\n",
    "file = open(\"./../books/asoif/Book 1 - A Game of Thrones.txt\", \"r\")\n",
    "\n",
    "text = file.read()\n",
    "\n",
    "characters = [\"Tyrion\", \"Jon\", \"Arya\", \"Sansa\", \"Bran\", \"Cersei\", \"Jaime\", \"Daenerys\", \"Robert\", \"Ned\"]\n",
    "\n",
    "# Example usage\n",
    "character_segments = segment_text_by_character(text, characters)\n",
    "print(character_segments)"
   ]
  },
  {
   "cell_type": "code",
   "execution_count": null,
   "metadata": {},
   "outputs": [
    {
     "name": "stdout",
     "output_type": "stream",
     "text": [
      "Remaining text length: 4717\n",
      "Remaining text length: 3771\n",
      "Remaining text length: 2928\n",
      "Remaining text length: 1908\n",
      "Remaining text length: 989\n"
     ]
    },
    {
     "name": "stderr",
     "output_type": "stream",
     "text": [
      "100%|██████████| 5/5 [00:42<00:00,  8.48s/it]\n"
     ]
    },
    {
     "name": "stdout",
     "output_type": "stream",
     "text": [
      "Robb and Jon sat tall and still on their horses, with Bran between them on his pony, trying to pretend that he’d seen all this before. Jon was slender where Robb was muscular. Robb was fair, graceful and quick where his half brother was strong and fast. ‘Robb says the man died bravely, but Jon says he was afraid’ “What do you think?” Bran gave the pup a quick nervous stroke, then turned as Jon said, “Here you go.”\n"
     ]
    }
   ],
   "source": [
    "from tqdm import tqdm\n",
    "\n",
    "\n",
    "def summarize_text(text, model, tokenizer, max_length=512, min_length=100):\n",
    "    inputs = tokenizer(text, return_tensors=\"pt\", max_length=1024, truncation=True)\n",
    "    summary_ids = model.generate(\n",
    "        inputs[\"input_ids\"],\n",
    "        max_length=max_length,\n",
    "        min_length=min_length,\n",
    "        length_penalty=2.0,\n",
    "        num_beams=4,\n",
    "        early_stopping=True,\n",
    "    )\n",
    "    return tokenizer.decode(summary_ids[0], skip_special_tokens=True)\n",
    "\n",
    "\n",
    "def recursive_summarization(text, model, tokenizer, max_chunk_length=1024, summary_length=512, min_summary_length=100):\n",
    "    # If text length is within the limit, summarize directly\n",
    "    inputs = tokenizer(text, return_tensors=\"pt\")\n",
    "    if inputs.input_ids.shape[1] <= max_chunk_length:\n",
    "        return summarize_text(text, model, tokenizer, max_length=summary_length, min_length=min_summary_length)\n",
    "\n",
    "    # Otherwise, split the text into chunks and summarize each chunk\n",
    "    chunks = []\n",
    "    while len(text) > 0:\n",
    "        print(f\"Remaining text length: {len(text)}\")\n",
    "        chunk = text[:max_chunk_length]\n",
    "        last_period = chunk.rfind(\".\")\n",
    "        if last_period != -1:\n",
    "            chunk = text[: last_period + 1]\n",
    "            text = text[last_period + 1 :]\n",
    "        else:\n",
    "            chunk = text[:max_chunk_length]\n",
    "            text = text[max_chunk_length:]\n",
    "        chunks.append(chunk)\n",
    "\n",
    "    # Summarize each chunk\n",
    "    summaries = [\n",
    "        summarize_text(chunk, model, tokenizer, max_length=summary_length, min_length=min_summary_length)\n",
    "        for chunk in tqdm(chunks)\n",
    "    ]\n",
    "\n",
    "    # Combine the summaries and recursively summarize the result\n",
    "    combined_summary = \" \".join(summaries)\n",
    "    return recursive_summarization(\n",
    "        combined_summary, model, tokenizer, max_chunk_length, summary_length, min_summary_length\n",
    "    )\n",
    "\n",
    "\n",
    "# Example usage\n",
    "long_text = \" \".join(character_segments[\"Jon\"])\n",
    "final_summary = recursive_summarization(long_text, model, tokenizer)\n",
    "print(final_summary)"
   ]
  },
  {
   "cell_type": "code",
   "execution_count": null,
   "metadata": {},
   "outputs": [
    {
     "name": "stderr",
     "output_type": "stream",
     "text": [
      "[nltk_data] Downloading package punkt to\n",
      "[nltk_data]     /Users/janvasiljevic/nltk_data...\n",
      "[nltk_data]   Package punkt is already up-to-date!\n",
      "[nltk_data] Downloading package averaged_perceptron_tagger to\n",
      "[nltk_data]     /Users/janvasiljevic/nltk_data...\n",
      "[nltk_data]   Package averaged_perceptron_tagger is already up-to-\n",
      "[nltk_data]       date!\n",
      "[nltk_data] Downloading package maxent_ne_chunker to\n",
      "[nltk_data]     /Users/janvasiljevic/nltk_data...\n",
      "[nltk_data]   Package maxent_ne_chunker is already up-to-date!\n",
      "[nltk_data] Downloading package words to\n",
      "[nltk_data]     /Users/janvasiljevic/nltk_data...\n",
      "[nltk_data]   Package words is already up-to-date!\n"
     ]
    }
   ],
   "source": [
    "import nltk\n",
    "import spacy\n",
    "from nltk import ne_chunk, pos_tag\n",
    "from nltk.tokenize import sent_tokenize, word_tokenize\n",
    "\n",
    "# Ensure you have downloaded the necessary NLTK data files\n",
    "nltk.download(\"punkt\")\n",
    "nltk.download(\"averaged_perceptron_tagger\")\n",
    "nltk.download(\"maxent_ne_chunker\")\n",
    "nltk.download(\"words\")\n",
    "\n",
    "# Load spaCy model\n",
    "nlp = spacy.load(\"en_core_web_sm\")\n",
    "\n",
    "# Add neuralcoref to spaCy's pipeline\n",
    "# neuralcoref.add_to_pipe(nlp)\n",
    "\n",
    "\n",
    "def extract_entities(sent):\n",
    "    words = word_tokenize(sent)\n",
    "    pos_tags = pos_tag(words)\n",
    "    chunked_nes = ne_chunk(pos_tags, binary=False)\n",
    "    entities = []\n",
    "    for chunk in chunked_nes:\n",
    "        if hasattr(chunk, \"label\") and chunk.label() == \"PERSON\":\n",
    "            entities.append(\" \".join(c[0] for c in chunk))\n",
    "    return entities\n",
    "\n",
    "\n",
    "def extract_relations(doc):\n",
    "    relations = []\n",
    "    for sent in doc.sents:\n",
    "        for token in sent:\n",
    "            if token.dep_ == \"nsubj\" and token.head.pos_ == \"VERB\":\n",
    "                subject = token.text\n",
    "                verb = token.head.text\n",
    "                obj = [child for child in token.head.children if child.dep_ == \"dobj\"]\n",
    "                if obj:\n",
    "                    relations.append((subject, verb, obj[0].text))\n",
    "    return relations\n",
    "\n",
    "\n",
    "def extract_facts(text):\n",
    "    sentences = sent_tokenize(text)\n",
    "\n",
    "    character_entities = []\n",
    "    for sentence in sentences:\n",
    "        character_entities.extend(extract_entities(sentence))\n",
    "\n",
    "    character_entities = list(set(character_entities))\n",
    "\n",
    "    doc = nlp(text)\n",
    "\n",
    "    relations = extract_relations(doc)\n",
    "\n",
    "    characters_facts = {\"characters\": character_entities, \"relations\": relations}\n",
    "\n",
    "    return characters_facts\n",
    "\n",
    "\n",
    "file = open(\"./../books/asoif/Book 1 - A Game of Thrones.txt\", \"r\")\n",
    "text = file.read()[:1000000]\n",
    "\n",
    "facts = extract_facts(text)"
   ]
  },
  {
   "cell_type": "code",
   "execution_count": null,
   "metadata": {},
   "outputs": [
    {
     "name": "stderr",
     "output_type": "stream",
     "text": [
      "[nltk_data] Downloading package punkt to\n",
      "[nltk_data]     /Users/janvasiljevic/nltk_data...\n",
      "[nltk_data]   Package punkt is already up-to-date!\n",
      "/Users/janvasiljevic/Faks/NLP/ul-fri-nlp-course-project-iota/.venv/lib/python3.11/site-packages/huggingface_hub/file_download.py:1132: FutureWarning: `resume_download` is deprecated and will be removed in version 1.0.0. Downloads always resume when possible. If you want to force a new download, use `force_download=True`.\n",
      "  warnings.warn(\n",
      "Some weights of DistilBertForQuestionAnswering were not initialized from the model checkpoint at distilbert-base-uncased and are newly initialized: ['qa_outputs.bias', 'qa_outputs.weight']\n",
      "You should probably TRAIN this model on a down-stream task to be able to use it for predictions and inference.\n"
     ]
    },
    {
     "name": "stdout",
     "output_type": "stream",
     "text": [
      "Question: Where does Jon live?\n",
      "Answer: live.\n",
      "Context: Let her live.\n",
      "Score: 0.0536450631916523\n",
      "\n",
      "\n",
      "Question: Who is Jon's father?\n",
      "Answer: Father was alone.\n",
      "Context: Father was alone.\n",
      "Score: 0.06143534928560257\n",
      "\n",
      "\n",
      "Question: What is Jon's real name?\n",
      "Answer: It felt real enough.\n",
      "Context: It felt real enough.\n",
      "Score: 0.040221136063337326\n",
      "\n",
      "\n"
     ]
    }
   ],
   "source": [
    "import nltk\n",
    "import numpy as np\n",
    "from nltk.tokenize import sent_tokenize\n",
    "from sklearn.feature_extraction.text import TfidfVectorizer\n",
    "from sklearn.metrics.pairwise import cosine_similarity\n",
    "from transformers import DistilBertForQuestionAnswering, DistilBertTokenizer, pipeline\n",
    "\n",
    "nltk.download(\"punkt\")\n",
    "\n",
    "file = open(\"./../books/asoif/Book 1 - A Game of Thrones.txt\", \"r\")\n",
    "text = file.read()[:1000000]\n",
    "\n",
    "sentences = sent_tokenize(text)\n",
    "\n",
    "tokenizer = DistilBertTokenizer.from_pretrained(\"distilbert-base-uncased\")\n",
    "model = DistilBertForQuestionAnswering.from_pretrained(\"distilbert-base-uncased\")\n",
    "\n",
    "# Create a QA pipeline\n",
    "qa_pipeline = pipeline(\"question-answering\", model=model, tokenizer=tokenizer)\n",
    "\n",
    "\n",
    "def answer_question(question, context):\n",
    "    return qa_pipeline({\"question\": question, \"context\": context})\n",
    "\n",
    "\n",
    "vectorizer = TfidfVectorizer(stop_words=\"english\")\n",
    "X = vectorizer.fit_transform(sentences)\n",
    "\n",
    "\n",
    "def retrieve_relevant_sentences(question, sentences, top_n=15):\n",
    "    query_vec = vectorizer.transform([question])\n",
    "    scores = cosine_similarity(query_vec, X).flatten()\n",
    "    top_indices = np.argsort(scores)[-top_n:][::-1]\n",
    "    return [sentences[i] for i in top_indices]\n",
    "\n",
    "\n",
    "questions = [\"Where does Jon live?\", \"Who is Jon's father?\", \"What is Jon's real name?\"]\n",
    "\n",
    "for question in questions:\n",
    "    relevant_sentences = retrieve_relevant_sentences(question, sentences)\n",
    "    answers = []\n",
    "    for sentence in relevant_sentences:\n",
    "        answer = answer_question(question, sentence)\n",
    "        answers.append((answer[\"answer\"], answer[\"score\"], sentence))\n",
    "    # Select the best answer based on the score\n",
    "    best_answer = max(answers, key=lambda x: x[1])\n",
    "    print(f\"Question: {question}\")\n",
    "    print(f\"Answer: {best_answer[0]}\")\n",
    "    print(f\"Context: {best_answer[2]}\")\n",
    "    print(f\"Score: {best_answer[1]}\")\n",
    "    print(\"\\n\")"
   ]
  }
 ],
 "metadata": {
  "language_info": {
   "name": "python"
  }
 },
 "nbformat": 4,
 "nbformat_minor": 2
}
