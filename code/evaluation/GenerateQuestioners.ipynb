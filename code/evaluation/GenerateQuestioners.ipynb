{
 "cells": [
  {
   "cell_type": "code",
   "execution_count": 3,
   "metadata": {},
   "outputs": [],
   "source": [
    "import json\n",
    "import os\n",
    "\n",
    "import pandas as pd"
   ]
  },
  {
   "cell_type": "code",
   "execution_count": 2,
   "metadata": {},
   "outputs": [],
   "source": [
    "phi2 = \"../results/character/phi-2/\"\n",
    "phi3 = \"../results/character/phi-3/\""
   ]
  },
  {
   "cell_type": "code",
   "execution_count": 28,
   "metadata": {},
   "outputs": [],
   "source": [
    "def generate_questioner(dir, n, fn):\n",
    "    files = os.listdir(dir)\n",
    "    files = [f for f in files if f.endswith(\".json\")]\n",
    "\n",
    "    hp = list(filter(lambda x: \"hp\" in x, files))\n",
    "    asoif = list(filter(lambda x: \"asoif\" in x, files))\n",
    "\n",
    "    hp_questions = []\n",
    "\n",
    "    for f in hp:\n",
    "        character = f.split(\"_\")[1]\n",
    "        with open(dir + f, \"r\") as file:\n",
    "            data = json.load(file)\n",
    "            for k, v in data.items():\n",
    "                hp_questions.append(\n",
    "                    {\n",
    "                        \"source\": \"hp\",\n",
    "                        \"character\": character,\n",
    "                        \"question\": k,\n",
    "                        \"A\": v[\"with_rag_reveal\"],\n",
    "                        \"B\": v[\"without_rag\"],\n",
    "                        \"C\": v[\"with_rag_hide\"],\n",
    "                    }\n",
    "                )\n",
    "\n",
    "    asoif_questions = []\n",
    "\n",
    "    for f in asoif:\n",
    "        character = f.split(\"_\")[1]\n",
    "        with open(dir + f, \"r\") as file:\n",
    "            data = json.load(file)\n",
    "\n",
    "            for k, v in data.items():\n",
    "                asoif_questions.append(\n",
    "                    {\n",
    "                        \"source\": \"asoif\",\n",
    "                        \"character\": character,\n",
    "                        \"question\": k,\n",
    "                        \"A\": v[\"with_rag_reveal\"],\n",
    "                        \"B\": v[\"without_rag\"],\n",
    "                        \"C\": v[\"with_rag_hide\"],\n",
    "                    }\n",
    "                )\n",
    "\n",
    "    df_hp = pd.DataFrame(hp_questions)\n",
    "    df_asoif = pd.DataFrame(asoif_questions)\n",
    "\n",
    "    hp_sampled = df_hp.sample(n)\n",
    "    asoif_sampled = df_asoif.sample(n)\n",
    "\n",
    "    # concat and shuffle\n",
    "    df = pd.concat([hp_sampled, asoif_sampled])\n",
    "    df = df.sample(frac=1)\n",
    "\n",
    "    df[\"rank\"] = \"\"\n",
    "\n",
    "    df.to_csv(fn, index=False)\n",
    "\n",
    "\n",
    "for i in [\"jan\", \"ziga\", \"matej\"]:\n",
    "    generate_questioner(phi2, 30, f\"../results/questioners/phi-2-{i}.csv\")\n",
    "    generate_questioner(phi3, 30, f\"../results/questioners/phi-3-{i}.csv\")"
   ]
  },
  {
   "cell_type": "code",
   "execution_count": null,
   "metadata": {},
   "outputs": [],
   "source": []
  }
 ],
 "metadata": {
  "kernelspec": {
   "display_name": ".venv",
   "language": "python",
   "name": "python3"
  },
  "language_info": {
   "codemirror_mode": {
    "name": "ipython",
    "version": 3
   },
   "file_extension": ".py",
   "mimetype": "text/x-python",
   "name": "python",
   "nbconvert_exporter": "python",
   "pygments_lexer": "ipython3",
   "version": "3.11.0"
  }
 },
 "nbformat": 4,
 "nbformat_minor": 2
}
