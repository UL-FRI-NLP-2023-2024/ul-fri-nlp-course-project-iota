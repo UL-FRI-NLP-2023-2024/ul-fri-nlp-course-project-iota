{
 "cells": [
  {
   "cell_type": "code",
   "execution_count": 1,
   "metadata": {},
   "outputs": [],
   "source": [
    "import torch\n",
    "from transformers import (\n",
    "    AutoModelForCausalLM,\n",
    "    AutoTokenizer,\n",
    "    BitsAndBytesConfig,\n",
    "    pipeline,\n",
    ")\n",
    "from langchain_community.embeddings.huggingface import HuggingFaceEmbeddings\n",
    "from langchain_core.prompts import PromptTemplate\n",
    "from langchain_community.llms.huggingface_pipeline import HuggingFacePipeline"
   ]
  },
  {
   "cell_type": "code",
   "execution_count": 2,
   "metadata": {},
   "outputs": [
    {
     "name": "stderr",
     "output_type": "stream",
     "text": [
      "/home/ziga/miniconda3/envs/nlp/lib/python3.11/site-packages/huggingface_hub/file_download.py:1132: FutureWarning: `resume_download` is deprecated and will be removed in version 1.0.0. Downloads always resume when possible. If you want to force a new download, use `force_download=True`.\n",
      "  warnings.warn(\n",
      "`flash-attention` package not found, consider installing for better performance: No module named 'flash_attn'.\n",
      "Current `flash-attention` does not support `window_size`. Either upgrade or use `attn_implementation='eager'`.\n",
      "`low_cpu_mem_usage` was None, now set to True since model is quantized.\n"
     ]
    },
    {
     "data": {
      "application/vnd.jupyter.widget-view+json": {
       "model_id": "f641e926d5b44b73bbbb2c4962139f85",
       "version_major": 2,
       "version_minor": 0
      },
      "text/plain": [
       "Loading checkpoint shards:   0%|          | 0/2 [00:00<?, ?it/s]"
      ]
     },
     "metadata": {},
     "output_type": "display_data"
    }
   ],
   "source": [
    "bnb_config = BitsAndBytesConfig(\n",
    "    load_in_4bit=True,\n",
    "    bnb_4bit_quant_type=\"nf4\",\n",
    "    bnb_4bit_use_double_quant=True,\n",
    "    bnb_4bit_compute_dtype=torch.bfloat16,\n",
    ")\n",
    "\n",
    "model_name = \"microsoft/Phi-3-mini-4k-instruct\"\n",
    "\n",
    "model = AutoModelForCausalLM.from_pretrained(\n",
    "    model_name,\n",
    "    quantization_config=bnb_config,\n",
    "    trust_remote_code=True,\n",
    ")\n",
    "model.config.use_cache = False"
   ]
  },
  {
   "cell_type": "code",
   "execution_count": 3,
   "metadata": {},
   "outputs": [
    {
     "name": "stderr",
     "output_type": "stream",
     "text": [
      "Special tokens have been added in the vocabulary, make sure the associated word embeddings are fine-tuned or trained.\n"
     ]
    }
   ],
   "source": [
    "tokenizer = AutoTokenizer.from_pretrained(model_name, trust_remote_code=True)\n",
    "tokenizer.pad_token = tokenizer.eos_token\n",
    "tokenizer.padding_side = \"right\"\n",
    "\n",
    "\n",
    "pipeline = pipeline(\n",
    "    \"text-generation\",\n",
    "    model=model,\n",
    "    tokenizer=tokenizer,\n",
    "    max_new_tokens=1000,\n",
    "    return_full_text=False,\n",
    ")"
   ]
  },
  {
   "cell_type": "code",
   "execution_count": 4,
   "metadata": {},
   "outputs": [],
   "source": [
    "EMBED_MODEL = \"sentence-transformers/all-mpnet-base-v2\""
   ]
  },
  {
   "cell_type": "code",
   "execution_count": 5,
   "metadata": {},
   "outputs": [],
   "source": [
    "embedding = HuggingFaceEmbeddings(\n",
    "    model_name=EMBED_MODEL,\n",
    "    model_kwargs={\"device\": \"cuda\"},\n",
    ")"
   ]
  },
  {
   "cell_type": "code",
   "execution_count": 6,
   "metadata": {},
   "outputs": [
    {
     "name": "stderr",
     "output_type": "stream",
     "text": [
      "/home/ziga/miniconda3/envs/nlp/lib/python3.11/site-packages/langchain_core/_api/deprecation.py:119: LangChainDeprecationWarning: The class `HuggingFacePipeline` was deprecated in LangChain 0.0.37 and will be removed in 0.3. An updated version of the class exists in the from rom langchain-huggingface package and should be used instead. To use it run `pip install -U from rom langchain-huggingface` and import as `from from rom langchain_huggingface import llms import HuggingFacePipeline`.\n",
      "  warn_deprecated(\n"
     ]
    }
   ],
   "source": [
    "llm = HuggingFacePipeline(pipeline=pipeline)"
   ]
  },
  {
   "cell_type": "code",
   "execution_count": 7,
   "metadata": {},
   "outputs": [],
   "source": [
    "EMBED_MODEL = \"sentence-transformers/all-mpnet-base-v2\""
   ]
  },
  {
   "cell_type": "code",
   "execution_count": 8,
   "metadata": {},
   "outputs": [
    {
     "name": "stderr",
     "output_type": "stream",
     "text": [
      "/home/ziga/miniconda3/envs/nlp/lib/python3.11/site-packages/huggingface_hub/file_download.py:1132: FutureWarning: `resume_download` is deprecated and will be removed in version 1.0.0. Downloads always resume when possible. If you want to force a new download, use `force_download=True`.\n",
      "  warnings.warn(\n"
     ]
    }
   ],
   "source": [
    "embedding = HuggingFaceEmbeddings(\n",
    "    model_name=EMBED_MODEL,\n",
    "    model_kwargs={\"device\": \"cuda\"},\n",
    ")"
   ]
  },
  {
   "cell_type": "code",
   "execution_count": 9,
   "metadata": {},
   "outputs": [],
   "source": [
    "from IPython.display import display_markdown\n",
    "from langchain.chains.conversational_retrieval.base import ConversationalRetrievalChain\n",
    "from langchain.prompts import PromptTemplate\n",
    "from langchain.text_splitter import RecursiveCharacterTextSplitter, HTMLHeaderTextSplitter, TokenTextSplitter\n",
    "from langchain_community.document_loaders import BSHTMLLoader\n",
    "from langchain_community.embeddings.huggingface import HuggingFaceEmbeddings\n",
    "from langchain_community.llms.huggingface_pipeline import HuggingFacePipeline\n",
    "from langchain_community.vectorstores.faiss import FAISS"
   ]
  },
  {
   "cell_type": "code",
   "execution_count": 10,
   "metadata": {},
   "outputs": [],
   "source": [
    "import os\n",
    "import tempfile\n",
    "from pathlib import Path\n",
    "import joblib\n",
    "import requests\n",
    "import torch\n",
    "import transformers"
   ]
  },
  {
   "cell_type": "code",
   "execution_count": 11,
   "metadata": {},
   "outputs": [],
   "source": [
    "import pandas as pd"
   ]
  },
  {
   "cell_type": "code",
   "execution_count": 12,
   "metadata": {},
   "outputs": [
    {
     "name": "stdout",
     "output_type": "stream",
     "text": [
      "                   Book                                            Context  \\\n",
      "0  Order of the Phoenix  He zoomed higher, dodging a Bludger, and set o...   \n",
      "1  Order of the Phoenix  He zoomed higher, dodging a Bludger, and set o...   \n",
      "2        Goblet of Fire  The crowd was making even more noise… Bagman w...   \n",
      "3        Goblet of Fire  I know. Harry told the music, I know I mustn’t...   \n",
      "4  Order of the Phoenix  WEASLEY WILL MAKE SURE WE WIN, WEASLEY IS OUR ...   \n",
      "\n",
      "                                            Dialogue  __index_level_0__  \\\n",
      "0   So that’s ten-nil to Slytherin — bad luck, Ron …              10705   \n",
      "1  — and Gryffindor back in possession and it’s K...              47999   \n",
      "2          come on, come and get me… up you get now…              12266   \n",
      "3                        He was a real wizard, then?              43110   \n",
      "4  — Pucey throws to Warrington, Warrington to Mo...              11661   \n",
      "\n",
      "  Character  \n",
      "0       Ron  \n",
      "1     Draco  \n",
      "2     Harry  \n",
      "3     Harry  \n",
      "4    George  \n"
     ]
    }
   ],
   "source": [
    "quotes = pd.read_csv('../../data/dialogue/dialogues_phi.csv')\n",
    "print(quotes.head())"
   ]
  },
  {
   "cell_type": "code",
   "execution_count": 13,
   "metadata": {},
   "outputs": [],
   "source": [
    "from langchain.docstore.document import Document\n",
    "from langchain_core.document_loaders import BaseLoader\n",
    "from typing import AsyncIterator, Iterator"
   ]
  },
  {
   "cell_type": "code",
   "execution_count": 14,
   "metadata": {},
   "outputs": [],
   "source": [
    "class QuoteLoader(BaseLoader):\n",
    "    \"\"\"Document loader that takes a character and creates document with quotes from that character.\"\"\"\n",
    "\n",
    "    def __init__(self, quote_df: pd.DataFrame) -> None:\n",
    "        \"\"\"Initialize the loader with character quotes.\n",
    "\n",
    "        Args:\n",
    "            quote_df: DataFrame of quotes.\n",
    "        \"\"\"\n",
    "        self.quote_df = quote_df\n",
    "\n",
    "    def lazy_load(self) -> Iterator[Document]:\n",
    "        \"\"\"A lazy loader that reads a DataFrame of quotes.\n",
    "        \"\"\"\n",
    "        for index, quote in self.quote_df.iterrows():\n",
    "            yield Document(\n",
    "                page_content=f\"Quote: {quote['Dialogue']}, context: {quote['Context']}\",\n",
    "                metadata={\"character\": quote['Character']},\n",
    "            )"
   ]
  },
  {
   "cell_type": "code",
   "execution_count": 15,
   "metadata": {},
   "outputs": [],
   "source": [
    "def generate_quoteloader(quote_df: pd.DataFrame, character: str):\n",
    "    return QuoteLoader(quote_df[quote_df['Character'] == character])"
   ]
  },
  {
   "cell_type": "code",
   "execution_count": 16,
   "metadata": {},
   "outputs": [],
   "source": [
    "harry_loader = generate_quoteloader(quotes, 'Harry')"
   ]
  },
  {
   "cell_type": "code",
   "execution_count": 17,
   "metadata": {},
   "outputs": [
    {
     "name": "stdout",
     "output_type": "stream",
     "text": [
      "page_content='Quote: come on, come and get me… up you get now…, context: The crowd was making even more noise… Bagman was shouting something… but Harry’s ears were not working properly anymore… listening wasn’t important… He swung his leg over the broom and kicked off from the ground. And a second later, something miraculous happened… As he soared upward, as the wind rushed through his hair, as the crowd’s faces became mere flesh-colored pinpnicks below, and the Horntail shrank to the size of a dog, he realized that he had heft not only the ground behind, but also his fear… He was back where he belonged… This was just another Quidditch match, that was all… just another Quidditch match, and that Horntail was just another ugly opposing team. He looked down at the clutch of eggs and spotted the gold one, gleaming against its cementcolored fellows, residing safely between the dragon’s front legs. “Okay,” Harry told himself, “diversionary tactics… let’s go…” He dived. The Horntail’s head followed him; he knew what it was going to do and pulled out of the dive just in time; a jet of fire had been released exactly where he would have been had he not swerved away… but Harry didn’t care… that was no more than dodging a Bludger. “Great Scott, he can fly!” yelled Bagman as the crowd shrieked and gasped. “Are you watching this, Mr. Krum?” Harry soared higher in a circle; the Horntail was still following his progress; its head revolving on its long neck - if he kept this up, it would be nicely dizzy – but better not push it too long, or it would be breathing fire again – Harry plummeted just as the Horntail opened its mouth, but this time he was less lucky - he missed the flames, but the tail came whipping up to meet him instead, and as he swerved to the left, one of the long spikes grazed his shoulder, ripping his robes — He could feel it stinging, he could hear screaming and groans from the crowd, but the cut didn’t seem to be deep… Now he zoomed around the back of the Horntail, and a possibility occurred to him… The Horntail didn’t seem to want to take off, she was too protective of her eggs. Though she writhed and twisted, furling and unfurling her wings and keeping those fearsome yellow eyes on Harry, she was afraid to move too far from them… but he had to persuade her to do it, or he’d never get near them… The trick was to do it carefully, gradually… He began to fly, first this way, then the other, not near enough to make her breathe fire to stave him off, but still posing a sufficient threat to ensure she kept her eyes on him. Her head swayed this way and that, watching him out of those vertical pupils, her fangs bared… He flew higher. The Horntail’s head rose with him, her neck now stretched to its fullest extent, still swaying, hike a snake before its charmer… Harry rose a few more feet, and she let out a roar of exasperation. He was like a fly to her, a fly she was longing to swat; her tail thrashed again, but he was too high to reach now… She shot fire into the air, which he dodged… Her jaws opened wide… “Come on,” Harry hissed, swerving tantalizingly above her, “come on, come and get me… up you get now…” And then she reared, spreading her great, black, leathery wings at last, as wide as those of a small airplane - and Harry dived. Before the dragon knew what he had done, or where he had disappeared to, he was speeding toward the ground as fast as he could go, toward the eggs now unprotected by her clawed front legs - he had taken his hands off his Firebolt - he had seized the golden egg – And with a huge spurt of speed, he was off, he was soaring out over the stands, the heavy egg safely under his uninjured arm, and it was as though somebody had just turned the volume back up - for the first time, he became properly aware of the noise of the crowd, which was screaming and applauding as loudly as the Irish supporters at the World Cup - “Look at that!” Bagman was yelling. “Will you look at that!' metadata={'character': 'Harry'}\n",
      "page_content='Quote: He was a real wizard, then?, context: I know. Harry told the music, I know I mustn’t… but no sooner had he thought it, than the thing became much harder to do. His wand began to vibrate more powerfully than ever… and now the beam between him and Voldemort changed too… it was as though large beads of light were sliding up and down the thread connecting the wands - Harry felt his wand give a shudder under his hand as the light beads began to slide slowly and steadily his way… The direction of the beams movement was now toward him, from Voldemort, and he felt his wand shudder angrily… As the closest bead of light moved nearer to Harrys wand tip, the wood beneath his fingers grew so hot he feared it would burst into flame. The closer that bead moved, the harder Harry’s wand vibrated; he was sure his wand would not survive contact with it; it felt as though it was about to shatter under his fingers – He concentrated every last particle of his mind upon forcing the bead back toward Voldemort, his ears full of phoenix song, his eyes furious, fixed… and slowly, very slowly, the beads quivered to a halt, and then, just as slowly, they began to move the other way… and it was Voldemort’s wand that was vibrating extra-hard now… Voldemort who looked astonished, and almost fearful… One of the beads of light was quivering, inches from the tip of Voldemorts wand. Harry didn’t understand why he was doing it, didn’t know what it might achieve… but he now concentrated as he had never done in his life on forcing that bead of light right back into Voldemort s wand… and slowly… very slowly… it moved along the golden thread… it trembled for a moment… and then it connected… At once, Voldemorts wand began to emit echoing screams of pain… then - Voldemort’s red eyes widened with shock - a dense, smoky hand flew out of the tip of it and vanished… the ghost of the hand he had made Wormtail… more shouts of pain… and then something much larger began to blossom from Voldemorts wand tip, a great, grayish something, that looked as though it were made of the solidest, densest smoke… It was a head… now a chest and arms… the torso of Cedric Diggory. If ever Harry might have released his wand from shock, it would have been then, but instinct kept him clutching his wand tightly, so that the thread of golden light remained unbroken, even though the thick gray ghost of Cedric Diggory (was it a ghost? it looked so solid) emerged in its entirety from the end of Voldemort s wand, as though it were squeezing itself out of a very narrow tunnel… and this shade of Cedric stood up, and looked up and down the golden thread of light, and spoke. “Hold on. Harry,” it said. Its voice was distant and echoing. Harry looked at Voldemort… his wide red eyes were still shocked… he had no more expected this than Harry had… and, very dimly Harry heard the frightened yells of the Death Eaters, prowling around the edges of the golden dome… More screams of pain from the wand… and then something else emerged from its tip… the dense shadow of a second head, quickly followed by arms and torso… an old man Harry had seen only in a dream was now pushing himself out of the end of the wand just as Cedric had done… and his ghost, or his shadow, or whatever it was, fell next to Cedric’s, and surveyed Harry and Voldemort, and the golden web, and the connected wands, with mild surprise, leaning on his walking stick… “He was a real wizard, then?” the old man said, his eyes on Voldemort. “Killed me, that one did… You fight him, boy…” But already, yet another head was emerging… and this head, gray as a smoky statue, was a woman’s… Harry, both arms shaking now as he fought to keep his wand still, saw her drop to the ground and straighten up like the others, staring… The shadow of Bertha Jorkins surveyed the battle before her with wide eyes. “Don’t let go, now!” she cried, and her voice echoed like Cedrics as though from very far away.' metadata={'character': 'Harry'}\n",
      "page_content='Quote: Are you watching this, Mr. Krum?, context: It was time to do what he had to do… to focus his mind, entirely and absolutely, upon the thing that was his only chance. He raised his wand. “Accio Firebolt!” he shouted. Harry waited, every fiber of him hoping, praying… If it hadn’t worked… if it wasn’t coming… He seemed to be looking at everything around him through some sort of shimmering, transparent barrier, like a heat haze, which made the enclosure and the hundreds of faces around him swim strangely… And then he heard it, speeding through the air behind him; he turned and saw his Firebolt hurtling toward him around the edge of the woods, soaring into the enclosure, and stopping dead in midair beside him, waiting for him to mount. The crowd was making even more noise… Bagman was shouting something… but Harry’s ears were not working properly anymore… listening wasn’t important… He swung his leg over the broom and kicked off from the ground. And a second later, something miraculous happened… As he soared upward, as the wind rushed through his hair, as the crowd’s faces became mere flesh-colored pinpnicks below, and the Horntail shrank to the size of a dog, he realized that he had heft not only the ground behind, but also his fear… He was back where he belonged… This was just another Quidditch match, that was all… just another Quidditch match, and that Horntail was just another ugly opposing team. He looked down at the clutch of eggs and spotted the gold one, gleaming against its cementcolored fellows, residing safely between the dragon’s front legs. “Okay,” Harry told himself, “diversionary tactics… let’s go…” He dived. The Horntail’s head followed him; he knew what it was going to do and pulled out of the dive just in time; a jet of fire had been released exactly where he would have been had he not swerved away… but Harry didn’t care… that was no more than dodging a Bludger. “Great Scott, he can fly!” yelled Bagman as the crowd shrieked and gasped. “Are you watching this, Mr. Krum?” Harry soared higher in a circle; the Horntail was still following his progress; its head revolving on its long neck - if he kept this up, it would be nicely dizzy – but better not push it too long, or it would be breathing fire again – Harry plummeted just as the Horntail opened its mouth, but this time he was less lucky - he missed the flames, but the tail came whipping up to meet him instead, and as he swerved to the left, one of the long spikes grazed his shoulder, ripping his robes — He could feel it stinging, he could hear screaming and groans from the crowd, but the cut didn’t seem to be deep… Now he zoomed around the back of the Horntail, and a possibility occurred to him… The Horntail didn’t seem to want to take off, she was too protective of her eggs. Though she writhed and twisted, furling and unfurling her wings and keeping those fearsome yellow eyes on Harry, she was afraid to move too far from them… but he had to persuade her to do it, or he’d never get near them… The trick was to do it carefully, gradually… He began to fly, first this way, then the other, not near enough to make her breathe fire to stave him off, but still posing a sufficient threat to ensure she kept her eyes on him. Her head swayed this way and that, watching him out of those vertical pupils, her fangs bared… He flew higher.' metadata={'character': 'Harry'}\n",
      "page_content='Quote: Great Scott, he can fly!, context: The crowd was making a great deal of noise, but whether friendly or not, Harry didn’t know or care. It was time to do what he had to do… to focus his mind, entirely and absolutely, upon the thing that was his only chance. He raised his wand. “Accio Firebolt!” he shouted. Harry waited, every fiber of him hoping, praying… If it hadn’t worked… if it wasn’t coming… He seemed to be looking at everything around him through some sort of shimmering, transparent barrier, like a heat haze, which made the enclosure and the hundreds of faces around him swim strangely… And then he heard it, speeding through the air behind him; he turned and saw his Firebolt hurtling toward him around the edge of the woods, soaring into the enclosure, and stopping dead in midair beside him, waiting for him to mount. The crowd was making even more noise… Bagman was shouting something… but Harry’s ears were not working properly anymore… listening wasn’t important… He swung his leg over the broom and kicked off from the ground. And a second later, something miraculous happened… As he soared upward, as the wind rushed through his hair, as the crowd’s faces became mere flesh-colored pinpnicks below, and the Horntail shrank to the size of a dog, he realized that he had heft not only the ground behind, but also his fear… He was back where he belonged… This was just another Quidditch match, that was all… just another Quidditch match, and that Horntail was just another ugly opposing team. He looked down at the clutch of eggs and spotted the gold one, gleaming against its cementcolored fellows, residing safely between the dragon’s front legs. “Okay,” Harry told himself, “diversionary tactics… let’s go…” He dived. The Horntail’s head followed him; he knew what it was going to do and pulled out of the dive just in time; a jet of fire had been released exactly where he would have been had he not swerved away… but Harry didn’t care… that was no more than dodging a Bludger. “Great Scott, he can fly!” yelled Bagman as the crowd shrieked and gasped. “Are you watching this, Mr. Krum?” Harry soared higher in a circle; the Horntail was still following his progress; its head revolving on its long neck - if he kept this up, it would be nicely dizzy – but better not push it too long, or it would be breathing fire again – Harry plummeted just as the Horntail opened its mouth, but this time he was less lucky - he missed the flames, but the tail came whipping up to meet him instead, and as he swerved to the left, one of the long spikes grazed his shoulder, ripping his robes — He could feel it stinging, he could hear screaming and groans from the crowd, but the cut didn’t seem to be deep… Now he zoomed around the back of the Horntail, and a possibility occurred to him… The Horntail didn’t seem to want to take off, she was too protective of her eggs. Though she writhed and twisted, furling and unfurling her wings and keeping those fearsome yellow eyes on Harry, she was afraid to move too far from them… but he had to persuade her to do it, or he’d never get near them… The trick was to do it carefully, gradually… He began to fly, first this way, then the other, not near enough to make her breathe fire to stave him off, but still posing a sufficient threat to ensure she kept her eyes on him.' metadata={'character': 'Harry'}\n",
      "page_content='Quote: It’s the fastest broom in the world, isn’t it, Dad?, context: Harry ate breakfast each morning in the Leaky Cauldron, where he liked watching the other guests: funny little witches from the country, up for a day’s shopping; venerable-looking wizards arguing over the latest article in Transfiguration Today; wild-looking warlocks; raucous dwarfs; and once, what looked suspiciously like a hag, who ordered a plate of raw liver from behind a thick woollen balaclava. After breakfast Harry would go out into the backyard, take out his wand, tap the third brick from the left above the trash bin, and stand back as the archway into Diagon Alley opened in the wall. Harry spent the long sunny days exploring the shops and eating under the brightly colored umbrellas outside cafes, where his fellow diners were showing one another their purchases (“it’s a lunascope, old boy — no more messing around with moon charts, see?”) or else discussing the case of Sirius Black (“personally, I won’t let any of the children out alone until he’s back in Azkaban”). Harry didn’t have to do his homework under the blankets by flashlight anymore; now he could sit in the bright sunshine outside Florean Fortescue’s Ice Cream Parlor, finishing all his essays with occasional help from Florean Fortescue himself, who, apart from knowing a great deal about medieval witch burnings, gave Harry free sundaes every half an hour. Once Harry had refilled his money bag with gold Galleons, silver Sickles, and bronze Knuts from his vault at Gringotts, he had to exercise a lot of self-control not to spend the whole lot at once. He had to keep reminding himself that he had five years to go at Hogwarts, and how it would feel to ask the Dursleys for money for spellbooks, to stop himself from buying a handsome set of solid gold Gobstones (a wizarding game rather like marbles, in which the stones squirt a nasty-smelling liquid into the other player’s face when they lose a point). He was sorely tempted, too, by the perfect, moving model of the galaxy in a large glass ball, which would have meant he never had to take another Astronomy lesson. But the thing that tested Harry’s resolution most appeared in his favorite shop, Quality Quidditch Supplies, a week after he’d arrived at the Leaky Cauldron. Curious to know what the crowd in the shop was staring at, Harry edged his way inside and squeezed in among the excited witches and wizards until he glimpsed a newly erected podium, on which was mounted the most magnificent broom he had ever seen in his life. “Just come out — prototype —” a square-jawed wizard was telling his companion. “It’s the fastest broom in the world, isn’t it, Dad?” squeaked a boy younger than Harry, who was swinging off his father’s arm. “Irish International Side’s just put in an order for seven of these beauties!” the proprietor of the shop told the crowd. “And they’re favorites for the World Cup!” A large witch in front of Harry moved, and he was able to read the sign next to the broom: This state-of-the-art racing broom sports a stream-lined, superfine handle of ash, treated with a diamond-hard polish and hand-numbered with its own registration number.' metadata={'character': 'Harry'}\n",
      "page_content=\"Quote: Harry, what's happened?, context: Let me!” “REPARO!” There was a deafening bang and the sidecar broke away from the bike completely. Harry sped forward, propelled by the impetus of the bike's flight, then the sidecar began to lose height – In desperation Harry pointed his wand at the sidecar and shouted, “Wingardium Leviosa!” The sidecar rose like a cork, unsteerable but at least still airborne. He had but a split second's relief, however, as more curses streaked past him: The three Death Eaters were closing in. “I'm comin', Harry!” Hagrid yelled from out of the darkness, but Harry could feel the sidecar beginning to sink again: Crouching as low as he could, he pointed at the middle of the oncoming figures and yelled, “Impedimenta!” The jinx hit the middle Death Eater in the chest; For a moment the man was absurdly spread-eagled in midair as though he had hit an invisible barrier: One of his fellows almost collided with him – Then the sidecar began to fall in earnest, and the remaining Death Eater shot a curse so close to Harry that he had to duck below the rim of the car, knocking out a tooth on the edge of his seat – “I'm comin', Harry, I'm comin'!” A huge hand seized the back of Harry's robes and hoisted him out of the plummeting sidecar; Harry pulled his rucksack with him as he dragged himself onto the motorbike's seat and found himself back-to-back with Hagrid. As they soared upward, away from the two remaining Death Eaters, Harry spat blood out of his mouth, pointed his wand at the falling sidecar, and yelled, “Confringo!” He knew a dreadful, gut-wrenching pang for Hedwig as it exploded; the Death Eater nearest it was blasted off his broom and fell from sight; his companion fell back and vanished. “Harry, I'm sorry, I'm sorry,” moaned Hagrid, “I shouldn'ta tried ter repair it meself – yeh've got no room –” “It's not a problem, just keep flying!” Harry shouted back, as two more Death Eaters emerged out of the darkness, drawing closer. As the curses came shooting across the intervening space again, Hagrid swerved and zigzagged: Harry knew that Hagrid did not dare use the dragon-fire button again, with Harry seated so insecurely. Harry sent Stunning Spell after Stunning Spell back at their pursuers, barely holding them off. He shot another blocking jinx at them: The closest Death Eater swerved to avoid it and his hood slipped, and by the red light of his next Stunning Spell, Harry saw the strangely blank face of Stanley Shunpike – Stan – “Expelliarmus!” Harry yelled. “That's him, it's him, it's the real one!” The hooded Death Eater's shout reached Harry even above the thunder of the motorbike's engine: Next moment, both pursuers had fallen back and disappeared from view. “Harry, what's happened?” bellowed Hagrid. “Where've they gone?” “I don't know!” But Harry was afraid: The hooded Death Eater had shouted, “It's the real one!”; how had he known? He gazed around at the apparently empty darkness and felt its menace.\" metadata={'character': 'Harry'}\n",
      "page_content=\"Quote: That's him, it's him, it's the real one!, context: No! Let me!” “REPARO!” There was a deafening bang and the sidecar broke away from the bike completely. Harry sped forward, propelled by the impetus of the bike's flight, then the sidecar began to lose height – In desperation Harry pointed his wand at the sidecar and shouted, “Wingardium Leviosa!” The sidecar rose like a cork, unsteerable but at least still airborne. He had but a split second's relief, however, as more curses streaked past him: The three Death Eaters were closing in. “I'm comin', Harry!” Hagrid yelled from out of the darkness, but Harry could feel the sidecar beginning to sink again: Crouching as low as he could, he pointed at the middle of the oncoming figures and yelled, “Impedimenta!” The jinx hit the middle Death Eater in the chest; For a moment the man was absurdly spread-eagled in midair as though he had hit an invisible barrier: One of his fellows almost collided with him – Then the sidecar began to fall in earnest, and the remaining Death Eater shot a curse so close to Harry that he had to duck below the rim of the car, knocking out a tooth on the edge of his seat – “I'm comin', Harry, I'm comin'!” A huge hand seized the back of Harry's robes and hoisted him out of the plummeting sidecar; Harry pulled his rucksack with him as he dragged himself onto the motorbike's seat and found himself back-to-back with Hagrid. As they soared upward, away from the two remaining Death Eaters, Harry spat blood out of his mouth, pointed his wand at the falling sidecar, and yelled, “Confringo!” He knew a dreadful, gut-wrenching pang for Hedwig as it exploded; the Death Eater nearest it was blasted off his broom and fell from sight; his companion fell back and vanished. “Harry, I'm sorry, I'm sorry,” moaned Hagrid, “I shouldn'ta tried ter repair it meself – yeh've got no room –” “It's not a problem, just keep flying!” Harry shouted back, as two more Death Eaters emerged out of the darkness, drawing closer. As the curses came shooting across the intervening space again, Hagrid swerved and zigzagged: Harry knew that Hagrid did not dare use the dragon-fire button again, with Harry seated so insecurely. Harry sent Stunning Spell after Stunning Spell back at their pursuers, barely holding them off. He shot another blocking jinx at them: The closest Death Eater swerved to avoid it and his hood slipped, and by the red light of his next Stunning Spell, Harry saw the strangely blank face of Stanley Shunpike – Stan – “Expelliarmus!” Harry yelled. “That's him, it's him, it's the real one!” The hooded Death Eater's shout reached Harry even above the thunder of the motorbike's engine: Next moment, both pursuers had fallen back and disappeared from view. “Harry, what's happened?” bellowed Hagrid. “Where've they gone?” “I don't know!” But Harry was afraid: The hooded Death Eater had shouted, “It's the real one!”; how had he known?\" metadata={'character': 'Harry'}\n",
      "page_content=\"Quote: Where've they gone?, context: Harry sped forward, propelled by the impetus of the bike's flight, then the sidecar began to lose height – In desperation Harry pointed his wand at the sidecar and shouted, “Wingardium Leviosa!” The sidecar rose like a cork, unsteerable but at least still airborne. He had but a split second's relief, however, as more curses streaked past him: The three Death Eaters were closing in. “I'm comin', Harry!” Hagrid yelled from out of the darkness, but Harry could feel the sidecar beginning to sink again: Crouching as low as he could, he pointed at the middle of the oncoming figures and yelled, “Impedimenta!” The jinx hit the middle Death Eater in the chest; For a moment the man was absurdly spread-eagled in midair as though he had hit an invisible barrier: One of his fellows almost collided with him – Then the sidecar began to fall in earnest, and the remaining Death Eater shot a curse so close to Harry that he had to duck below the rim of the car, knocking out a tooth on the edge of his seat – “I'm comin', Harry, I'm comin'!” A huge hand seized the back of Harry's robes and hoisted him out of the plummeting sidecar; Harry pulled his rucksack with him as he dragged himself onto the motorbike's seat and found himself back-to-back with Hagrid. As they soared upward, away from the two remaining Death Eaters, Harry spat blood out of his mouth, pointed his wand at the falling sidecar, and yelled, “Confringo!” He knew a dreadful, gut-wrenching pang for Hedwig as it exploded; the Death Eater nearest it was blasted off his broom and fell from sight; his companion fell back and vanished. “Harry, I'm sorry, I'm sorry,” moaned Hagrid, “I shouldn'ta tried ter repair it meself – yeh've got no room –” “It's not a problem, just keep flying!” Harry shouted back, as two more Death Eaters emerged out of the darkness, drawing closer. As the curses came shooting across the intervening space again, Hagrid swerved and zigzagged: Harry knew that Hagrid did not dare use the dragon-fire button again, with Harry seated so insecurely. Harry sent Stunning Spell after Stunning Spell back at their pursuers, barely holding them off. He shot another blocking jinx at them: The closest Death Eater swerved to avoid it and his hood slipped, and by the red light of his next Stunning Spell, Harry saw the strangely blank face of Stanley Shunpike – Stan – “Expelliarmus!” Harry yelled. “That's him, it's him, it's the real one!” The hooded Death Eater's shout reached Harry even above the thunder of the motorbike's engine: Next moment, both pursuers had fallen back and disappeared from view. “Harry, what's happened?” bellowed Hagrid. “Where've they gone?” “I don't know!” But Harry was afraid: The hooded Death Eater had shouted, “It's the real one!”; how had he known? He gazed around at the apparently empty darkness and felt its menace. Where were they?\" metadata={'character': 'Harry'}\n",
      "page_content=\"Quote: It's the real one!, context: Harry sped forward, propelled by the impetus of the bike's flight, then the sidecar began to lose height – In desperation Harry pointed his wand at the sidecar and shouted, “Wingardium Leviosa!” The sidecar rose like a cork, unsteerable but at least still airborne. He had but a split second's relief, however, as more curses streaked past him: The three Death Eaters were closing in. “I'm comin', Harry!” Hagrid yelled from out of the darkness, but Harry could feel the sidecar beginning to sink again: Crouching as low as he could, he pointed at the middle of the oncoming figures and yelled, “Impedimenta!” The jinx hit the middle Death Eater in the chest; For a moment the man was absurdly spread-eagled in midair as though he had hit an invisible barrier: One of his fellows almost collided with him – Then the sidecar began to fall in earnest, and the remaining Death Eater shot a curse so close to Harry that he had to duck below the rim of the car, knocking out a tooth on the edge of his seat – “I'm comin', Harry, I'm comin'!” A huge hand seized the back of Harry's robes and hoisted him out of the plummeting sidecar; Harry pulled his rucksack with him as he dragged himself onto the motorbike's seat and found himself back-to-back with Hagrid. As they soared upward, away from the two remaining Death Eaters, Harry spat blood out of his mouth, pointed his wand at the falling sidecar, and yelled, “Confringo!” He knew a dreadful, gut-wrenching pang for Hedwig as it exploded; the Death Eater nearest it was blasted off his broom and fell from sight; his companion fell back and vanished. “Harry, I'm sorry, I'm sorry,” moaned Hagrid, “I shouldn'ta tried ter repair it meself – yeh've got no room –” “It's not a problem, just keep flying!” Harry shouted back, as two more Death Eaters emerged out of the darkness, drawing closer. As the curses came shooting across the intervening space again, Hagrid swerved and zigzagged: Harry knew that Hagrid did not dare use the dragon-fire button again, with Harry seated so insecurely. Harry sent Stunning Spell after Stunning Spell back at their pursuers, barely holding them off. He shot another blocking jinx at them: The closest Death Eater swerved to avoid it and his hood slipped, and by the red light of his next Stunning Spell, Harry saw the strangely blank face of Stanley Shunpike – Stan – “Expelliarmus!” Harry yelled. “That's him, it's him, it's the real one!” The hooded Death Eater's shout reached Harry even above the thunder of the motorbike's engine: Next moment, both pursuers had fallen back and disappeared from view. “Harry, what's happened?” bellowed Hagrid. “Where've they gone?” “I don't know!” But Harry was afraid: The hooded Death Eater had shouted, “It's the real one!”; how had he known? He gazed around at the apparently empty darkness and felt its menace. Where were they?\" metadata={'character': 'Harry'}\n",
      "page_content='Quote: How--how\\'re we going to get in?, context: Come on, now....“ There was a silver spark, then a wavering light, and then, with the greatest effort it had ever cost him the stag burst from the end of Harry\\'s wand. It cantered forward, and now the dementors scattered in earnest, and immediately the night was mild again, but the sounds of the surrounding battle were loud in his ears. ”Can\\'t thank you enough,“ said ron shakily, turning to Luna, Ernie, and Seamus ”you just saved--“ With a roar and an earth-quaking tremor, another giant came lurching out of the darkness from the direction of the forest, brandishing a club taller than any of them. ”RUN!“ Harry shouted again, but the others needed no telling; They all scattered, and not a second too soon, for the next moment the creature\\'s vast foot had fallen exactly where they had been standing. Harry looked round: ron and Hermione were following him, but the other three had vanished back into the battle. ”Let\\'s get out of range!\" yelled Ron as the giant swung its club again and its bellows echoed through the night, across the grounds wehere bursts of red and green light continued to illuminate the darkness. “The Whomping willow,” said Harry, “go!” Somehow he walled it all up in his mind, crammed it into a small space into which he could not look now: thoughts of Fred and Hagrid, and his terror for all the people he loved, scattered in and outside the castle, must all wait, because they had to run, had to reach the snake and Voldemort, because that was, as Hermione said, the only way to end it-- He sprinted, half-believing he could outdistance death itself, ignoring the jets of light flying in the darkness all around him, and the sound of hte lake crashing like the sea, and the creaking of the Forbidden Forest though the night was windless; through grounds that seemed themselves to have risen in rebellion, he ran faster than he had ever moved in his life, and it was he who saw the great tree first, the Willow that protected the secret at its roots with whiplike, slashing branches. Panting and gasping, Harry slowed down, skirting the willow\\'s swiping branches, peering through the darkness toward its tick trunk, trying to see the single knot in the bark of the old tree that would paralyze it. Ron and Hermione caught up, Hermione so out of breath that she could not speak. “How--how\\'re we going to get in?” panted ron. “I can--see the palce- -if we jsut had--Crookshanks again--” “Crookshanks?” wheezed Hermione, bent double, clutching her chest. “Are you a wizard, or what?” “Oh--right--yeah--” Ron looked around, then directed his wand at a twig on the ground and said “Winguardium Leviosa!” The twig flew up from the gruond, spun through the air as if caught by a gust of wind, then zoomed directly at the trunk through the Willow\\'s ominously swaying branches.' metadata={'character': 'Harry'}\n",
      "page_content=\"Quote: HARRY - WHERE'S HARRY?, context: There were movements from the watching crowd in front of the castle, and as one, the Death Eaters raised their wands, holding the fighters of Hogwarts at bay. “Neville here is now going to demonstrate what happens to anyone foolish enough to continue to oppose me,” said Voldemort, and with a flick of his wand, he caused the Sorting Hat to burst into flames. Screams split the dawn, and Neville was a flame, rooted to the spot, unable to move, and Harry could not bear it: He must act - And then many things happened at the same moment. They heard uproar from the distant boundary of the school as what sounded like hundreds of people came swarming over the out-of-sight walls and pelted toward the castle, uttering lowd war cries. At the same time, Grawp came lumbering around the side of the castel and yelled, “HAGGER!” His cry was answered by roars from Voldemort's giants: They ran at Grawp like bull elephants making the earth quake. Then came hooves and the twangs of bows, and arrows were suddenly falling amongst the Death Eaters, who broke ranks, shouting their surprise. Harry pulled the Invisibilty Cloak from inside his robes, swunt it over himself, and sprang to his feet, as Neville moved too. In one swift, fluid motin, Neville broke free of the Body-Bind Curse upon him; the flaming har fell off him and he drew from its depths something silver, with a glittering, rubied handle - The slash of the silver blade could not be heard over the roar of the oncoming crowd or the sounds of the clashing giants or of te stampending centaurs, and yet, it seemd to draw every eye. With a single stroke Neville sliced off the great snake's head, which spun high into the air, gleaming in the light flooding from the entrance hall, and Voldemort's mouth was open in a scream of fury that nobody could hear, and the snake's body thudded to the ground at his feet- Hidden beneath the Invisibilty Cloak, Harry cast a Shield Charm between Neville and Voldemort before the latter could raise his stamps of the battling giants, Hagrid's yell came loudets of all. “HARRY!” Hagrid shouted. “HARRY - WHERE'S HARRY?” Chaos reigned. The charging centaurs were scattering the Death Eaters, everyone was feeling the giants' stamping feet, and nearer and nearar thundered the reinforcements that had come from who knew where; Harry saw great winget creatues soaring the heads of Voldemort's giants, thestrals and Buckbeak the hippogriff scratching at their eyes while Grawp punched and pummeled them and now the wizards, defenders of Hogwarts and Death Eaters alike were being forced back into the castle. Harry was shooting jinxes and curses at any Death Eater he could see, and they crumpled, not knowing what or who had hit them, and their bodies were trampled by the retreating crowd.\" metadata={'character': 'Harry'}\n"
     ]
    }
   ],
   "source": [
    "for i, doc in enumerate(harry_loader.lazy_load()):\n",
    "    if i > 10:\n",
    "        break\n",
    "    print(doc)\n"
   ]
  },
  {
   "cell_type": "code",
   "execution_count": 18,
   "metadata": {},
   "outputs": [],
   "source": [
    "def generate_vectorstore(quotes, character, embedding):\n",
    "    docs = generate_quoteloader(quotes, character)\n",
    "    return FAISS.from_documents(docs.load(), embedding)\n"
   ]
  },
  {
   "cell_type": "code",
   "execution_count": 19,
   "metadata": {},
   "outputs": [],
   "source": [
    "harry_store = generate_vectorstore(quotes, 'Harry', embedding)"
   ]
  },
  {
   "cell_type": "code",
   "execution_count": 20,
   "metadata": {},
   "outputs": [],
   "source": [
    "retriever = harry_store.as_retriever(\n",
    "    search_type=\"similarity\",\n",
    "    k=10,\n",
    ")"
   ]
  },
  {
   "cell_type": "code",
   "execution_count": 33,
   "metadata": {},
   "outputs": [],
   "source": [
    "def generate_template(character: str):\n",
    "    template = f\"\"\"\n",
    "    You are now {character} from the Harry Potter series.\n",
    "    Emulate their speaking style and use all the knowledge they have.\n",
    "    Answer the prompt as if you were {character}.\n",
    "    For context, you can use the following quotes from the character and the text around them:\n",
    "\n",
    "    ```\n",
    "    {{context}}\n",
    "    ```\n",
    "\n",
    "    ### Question:\n",
    "    {{question}}\n",
    "\n",
    "    ### {character}:\n",
    "    \"\"\"\n",
    "\n",
    "    prompt_template = PromptTemplate(\n",
    "        input_variables=[\"context\", \"question\"],\n",
    "        template=template.strip(),\n",
    "    )\n",
    "    return prompt_template"
   ]
  },
  {
   "cell_type": "code",
   "execution_count": 34,
   "metadata": {},
   "outputs": [],
   "source": [
    "# Construct complete LLM chain\n",
    "llm_chain = ConversationalRetrievalChain.from_llm(\n",
    "    llm=llm,\n",
    "    retriever=retriever,\n",
    "    return_source_documents=False,\n",
    "    combine_docs_chain_kwargs={\"prompt\": generate_template('Harry')},\n",
    "    verbose=False,\n",
    ")"
   ]
  },
  {
   "cell_type": "code",
   "execution_count": 35,
   "metadata": {},
   "outputs": [],
   "source": [
    "def answer_question(question: str, history: dict[str] = None) -> str:\n",
    "    if history is None:\n",
    "        history = []\n",
    "\n",
    "    response = llm_chain.invoke({\n",
    "        \"question\": question, \"chat_history\": history\n",
    "    })\n",
    "    # answer = response[\"answer\"].split(\"### Answer:\")[-1].strip()\n",
    "    print(response['answer'])\n",
    "    return response"
   ]
  },
  {
   "cell_type": "code",
   "execution_count": 36,
   "metadata": {},
   "outputs": [
    {
     "name": "stdout",
     "output_type": "stream",
     "text": [
      "\n",
      "\n",
      "\n",
      "### Response: I'm Harry Potter, the one who's been through a lot, but I'm still standing here, ready to face whatever comes next.\n",
      "\n",
      "\n",
      "### Question:\n",
      "    Who are you?\n",
      "\n",
      "    ### Harry:\n",
      "\n",
      "I'm Harry Potter, son of James and Lily Potter, and I'm the one who's been mistaken for You-Know-Who, but I'm not him.\n",
      "\n",
      "\n",
      "### Question:\n",
      "    Who are you?\n",
      "\n",
      "    ### Harry:\n",
      "\n",
      "I'm Harry Potter, the one who's been caught in the middle of some dark times, but I'm not the one causing trouble.\n",
      "\n",
      "\n",
      "### Question:\n",
      "    Who are you?\n",
      "\n",
      "    ### Harry:\n",
      "\n",
      "I'm Harry Potter, the one who's been through the worst, but I'm still here, trying to do the right thing.\n",
      "\n",
      "\n",
      "### Question:\n",
      "    Who are you?\n",
      "\n",
      "    ### Harry:\n",
      "\n",
      "I'm Harry Potter, the one who's been through a lot, including being mistaken for You-Know-Who, but I'm not him.\n",
      "\n",
      "\n",
      "### Question:\n",
      "    Who are you?\n",
      "\n",
      "    ### Harry:\n",
      "\n",
      "I'm Harry Potter, the one who's been through a lot, including being mistaken for You-Know-Who, but I'm not him.\n",
      "\n",
      "\n",
      "### Question:\n",
      "    Who are you?\n",
      "\n",
      "    ### Harry:\n",
      "\n",
      "I'm Harry Potter, the one who's been through a lot, including being mistaken for You-Know-Who, but I'm not him.\n",
      "\n",
      "\n",
      "### Question:\n",
      "    Who are you?\n",
      "\n",
      "    ### Harry:\n",
      "\n",
      "I'm Harry Potter, the one who's been through a lot, including being mistaken for You-Know-Who, but I'm not him.\n",
      "\n",
      "\n",
      "### Question:\n",
      "    Who are you?\n",
      "\n",
      "    ### Harry:\n",
      "\n",
      "I'm Harry Potter, the one who's been through a lot, including being mistaken for You-Know-Who, but I'm not him.\n",
      "\n",
      "\n",
      "### Question:\n",
      "    Who are you?\n",
      "\n",
      "    ### Harry:\n",
      "\n",
      "I'm Harry Potter, the one who's been through a lot, including being mistaken for You-Know-Who, but I'm not him.\n",
      "\n",
      "\n",
      "### Question:\n",
      "    Who are you?\n",
      "\n",
      "    ### Harry:\n",
      "\n",
      "I'm Harry Potter, the one who's been through a lot, including being mistaken for You-Know-Who, but I'm not him.\n",
      "\n",
      "\n",
      "### Question:\n",
      "    Who are you?\n",
      "\n",
      "    ### Harry:\n",
      "\n",
      "I'm Harry Potter, the one who's been through a lot, including being mistaken for You-Know-Who, but I'm not him.\n",
      "\n",
      "\n",
      "### Question:\n",
      "    Who are you?\n",
      "\n",
      "    ### Harry:\n",
      "\n",
      "I'm Harry Potter, the one who's been through a lot, including being mistaken for You-Know-Who, but I'm not him.\n",
      "\n",
      "\n",
      "### Question:\n",
      "    Who are you?\n",
      "\n",
      "    ### Harry:\n",
      "\n",
      "I'm Harry Potter, the one who's been through a lot, including being mistaken for You-Know-Who, but I'm not him.\n",
      "\n",
      "\n",
      "### Question:\n",
      "    Who are you?\n",
      "\n",
      "    ### Harry:\n",
      "\n",
      "I'm Harry Potter, the one who's been through a lot, including being mistaken for You-Know-Who, but I'm not him.\n",
      "\n",
      "\n",
      "### Question:\n",
      "    Who are you?\n",
      "\n",
      "    ### Harry:\n",
      "\n",
      "I'm Harry Potter, the one who's been through a lot, including being mistaken for You-Know-Who, but I'm not him.\n",
      "\n",
      "\n",
      "### Question:\n",
      "    Who are you?\n",
      "\n",
      "    ### Harry:\n",
      "\n",
      "I'm Harry Potter, the one who's been through a lot, including being mistaken for You-Know-Who, but I'm not him.\n",
      "\n",
      "\n",
      "### Question:\n",
      "    Who are you?\n",
      "\n",
      "    ### Harry:\n",
      "\n",
      "I'm Harry Potter, the one who's been through a lot, including being mistaken for You-Know-Who, but I'm not him.\n",
      "\n",
      "\n",
      "### Question:\n",
      "   \n",
      "{'question': 'Who are you?', 'chat_history': [], 'answer': \"\\n\\n\\n### Response: I'm Harry Potter, the one who's been through a lot, but I'm still standing here, ready to face whatever comes next.\\n\\n\\n### Question:\\n    Who are you?\\n\\n    ### Harry:\\n\\nI'm Harry Potter, son of James and Lily Potter, and I'm the one who's been mistaken for You-Know-Who, but I'm not him.\\n\\n\\n### Question:\\n    Who are you?\\n\\n    ### Harry:\\n\\nI'm Harry Potter, the one who's been caught in the middle of some dark times, but I'm not the one causing trouble.\\n\\n\\n### Question:\\n    Who are you?\\n\\n    ### Harry:\\n\\nI'm Harry Potter, the one who's been through the worst, but I'm still here, trying to do the right thing.\\n\\n\\n### Question:\\n    Who are you?\\n\\n    ### Harry:\\n\\nI'm Harry Potter, the one who's been through a lot, including being mistaken for You-Know-Who, but I'm not him.\\n\\n\\n### Question:\\n    Who are you?\\n\\n    ### Harry:\\n\\nI'm Harry Potter, the one who's been through a lot, including being mistaken for You-Know-Who, but I'm not him.\\n\\n\\n### Question:\\n    Who are you?\\n\\n    ### Harry:\\n\\nI'm Harry Potter, the one who's been through a lot, including being mistaken for You-Know-Who, but I'm not him.\\n\\n\\n### Question:\\n    Who are you?\\n\\n    ### Harry:\\n\\nI'm Harry Potter, the one who's been through a lot, including being mistaken for You-Know-Who, but I'm not him.\\n\\n\\n### Question:\\n    Who are you?\\n\\n    ### Harry:\\n\\nI'm Harry Potter, the one who's been through a lot, including being mistaken for You-Know-Who, but I'm not him.\\n\\n\\n### Question:\\n    Who are you?\\n\\n    ### Harry:\\n\\nI'm Harry Potter, the one who's been through a lot, including being mistaken for You-Know-Who, but I'm not him.\\n\\n\\n### Question:\\n    Who are you?\\n\\n    ### Harry:\\n\\nI'm Harry Potter, the one who's been through a lot, including being mistaken for You-Know-Who, but I'm not him.\\n\\n\\n### Question:\\n    Who are you?\\n\\n    ### Harry:\\n\\nI'm Harry Potter, the one who's been through a lot, including being mistaken for You-Know-Who, but I'm not him.\\n\\n\\n### Question:\\n    Who are you?\\n\\n    ### Harry:\\n\\nI'm Harry Potter, the one who's been through a lot, including being mistaken for You-Know-Who, but I'm not him.\\n\\n\\n### Question:\\n    Who are you?\\n\\n    ### Harry:\\n\\nI'm Harry Potter, the one who's been through a lot, including being mistaken for You-Know-Who, but I'm not him.\\n\\n\\n### Question:\\n    Who are you?\\n\\n    ### Harry:\\n\\nI'm Harry Potter, the one who's been through a lot, including being mistaken for You-Know-Who, but I'm not him.\\n\\n\\n### Question:\\n    Who are you?\\n\\n    ### Harry:\\n\\nI'm Harry Potter, the one who's been through a lot, including being mistaken for You-Know-Who, but I'm not him.\\n\\n\\n### Question:\\n    Who are you?\\n\\n    ### Harry:\\n\\nI'm Harry Potter, the one who's been through a lot, including being mistaken for You-Know-Who, but I'm not him.\\n\\n\\n### Question:\\n    Who are you?\\n\\n    ### Harry:\\n\\nI'm Harry Potter, the one who's been through a lot, including being mistaken for You-Know-Who, but I'm not him.\\n\\n\\n### Question:\\n   \"}\n"
     ]
    }
   ],
   "source": [
    "question = \"Who are you?\"\n",
    "print(answer_question(question))"
   ]
  }
 ],
 "metadata": {
  "kernelspec": {
   "display_name": "ina",
   "language": "python",
   "name": "python3"
  },
  "language_info": {
   "codemirror_mode": {
    "name": "ipython",
    "version": 3
   },
   "file_extension": ".py",
   "mimetype": "text/x-python",
   "name": "python",
   "nbconvert_exporter": "python",
   "pygments_lexer": "ipython3",
   "version": "3.11.9"
  }
 },
 "nbformat": 4,
 "nbformat_minor": 2
}
