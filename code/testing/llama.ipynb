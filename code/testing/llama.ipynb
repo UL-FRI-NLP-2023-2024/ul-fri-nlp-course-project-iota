{
 "cells": [
  {
   "cell_type": "code",
   "execution_count": 1,
   "metadata": {},
   "outputs": [],
   "source": [
    "import torch\n",
    "from transformers import (\n",
    "    AutoModelForCausalLM,\n",
    "    AutoTokenizer,\n",
    "    BitsAndBytesConfig,\n",
    "    pipeline,\n",
    ")"
   ]
  },
  {
   "cell_type": "code",
   "execution_count": 2,
   "metadata": {},
   "outputs": [
    {
     "name": "stderr",
     "output_type": "stream",
     "text": [
      "/home/matej/.cache/pypoetry/virtualenvs/ul-fri-nlp-course-project-iota-g_O3Pc_g-py3.11/lib/python3.11/site-packages/huggingface_hub/file_download.py:1132: FutureWarning: `resume_download` is deprecated and will be removed in version 1.0.0. Downloads always resume when possible. If you want to force a new download, use `force_download=True`.\n",
      "  warnings.warn(\n",
      "`flash-attention` package not found, consider installing for better performance: No module named 'flash_attn'.\n",
      "Current `flash-attenton` does not support `window_size`. Either upgrade or use `attn_implementation='eager'`.\n",
      "`low_cpu_mem_usage` was None, now set to True since model is quantized.\n"
     ]
    },
    {
     "data": {
      "application/vnd.jupyter.widget-view+json": {
       "model_id": "b4ee1f0f509b47429e7f5981e6d76584",
       "version_major": 2,
       "version_minor": 0
      },
      "text/plain": [
       "Loading checkpoint shards:   0%|          | 0/2 [00:00<?, ?it/s]"
      ]
     },
     "metadata": {},
     "output_type": "display_data"
    }
   ],
   "source": [
    "bnb_config = BitsAndBytesConfig(\n",
    "    load_in_4bit=True,\n",
    "    bnb_4bit_quant_type=\"nf4\",\n",
    "    bnb_4bit_use_double_quant=True,\n",
    "    bnb_4bit_compute_dtype=torch.bfloat16,\n",
    ")\n",
    "\n",
    "model_name = \"microsoft/Phi-3-mini-4k-instruct\"\n",
    "\n",
    "model = AutoModelForCausalLM.from_pretrained(\n",
    "    model_name,\n",
    "    quantization_config=bnb_config,\n",
    "    trust_remote_code=True,\n",
    ")\n",
    "model.config.use_cache = False"
   ]
  },
  {
   "cell_type": "code",
   "execution_count": 3,
   "metadata": {},
   "outputs": [
    {
     "name": "stderr",
     "output_type": "stream",
     "text": [
      "Special tokens have been added in the vocabulary, make sure the associated word embeddings are fine-tuned or trained.\n"
     ]
    }
   ],
   "source": [
    "tokenizer = AutoTokenizer.from_pretrained(model_name, trust_remote_code=True)\n",
    "\n",
    "pipeline = pipeline(\"text-generation\", model=model, tokenizer=tokenizer)"
   ]
  },
  {
   "cell_type": "code",
   "execution_count": 4,
   "metadata": {},
   "outputs": [
    {
     "name": "stderr",
     "output_type": "stream",
     "text": [
      "You are not running the flash-attention implementation, expect numerical differences.\n"
     ]
    },
    {
     "name": "stdout",
     "output_type": "stream",
     "text": [
      "Answer the following multiple choice question with only a single letter.\n",
      "        Who were Harry's parents?\n",
      "        (A) Henry and Maggie Potter\n",
      "        (B) James and Lily Potter\n",
      "        (C) William and Elizabeth Potter\n",
      "        Answer: (B\n"
     ]
    }
   ],
   "source": [
    "prompt = \"\"\"Answer the following multiple choice question with only a single letter.\n",
    "        Who were Harry's parents?\n",
    "        (A) Henry and Maggie Potter\n",
    "        (B) James and Lily Potter\n",
    "        (C) William and Elizabeth Potter\n",
    "        Answer: (\"\"\"\n",
    "\n",
    "result = pipeline(prompt, max_new_tokens=1)\n",
    "print(result[0][\"generated_text\"])"
   ]
  },
  {
   "cell_type": "code",
   "execution_count": 9,
   "metadata": {},
   "outputs": [
    {
     "name": "stdout",
     "output_type": "stream",
     "text": [
      "You are Harry Potter. Who are your best friends? Answer in a single sentence.\n",
      "\n",
      "\n",
      "### Response\n",
      "\n",
      "My best friends are Ron Weasley and Hermione Granger.\n"
     ]
    }
   ],
   "source": [
    "prompt = \"\"\"You are Harry Potter. Who are your best friends? Answer in a single sentence.\"\"\"\n",
    "\n",
    "result = pipeline(prompt, max_new_tokens=100)\n",
    "print(result[0][\"generated_text\"])"
   ]
  },
  {
   "cell_type": "code",
   "execution_count": 5,
   "metadata": {},
   "outputs": [],
   "source": [
    "%load_ext autoreload\n",
    "%autoreload 2"
   ]
  },
  {
   "cell_type": "code",
   "execution_count": null,
   "metadata": {},
   "outputs": [],
   "source": [
    "import json\n",
    "import sys\n",
    "\n",
    "# Bad practice goes brrrr\n",
    "sys.path.append(\"..\")\n",
    "\n",
    "from evaluation.trivia import evaluate_trivia\n",
    "\n",
    "questions = json.load(open(\"../../data/quizzes/quiz_questions/hp/quiz-questions.json\"))\n",
    "\n",
    "evaluate_trivia(pipeline, questions)"
   ]
  },
  {
   "cell_type": "code",
   "execution_count": 37,
   "metadata": {},
   "outputs": [
    {
     "name": "stdout",
     "output_type": "stream",
     "text": [
      "Desired house: gryffindor Predicted House: ravenclaw ({'gryffindor': 1275, 'hufflepuff': 900, 'ravenclaw': 1500, 'slytherin': 300})\n",
      "Desired house: hufflepuff Predicted House: ravenclaw ({'gryffindor': 925, 'hufflepuff': 1300, 'ravenclaw': 1500, 'slytherin': 300})\n",
      "Desired house: ravenclaw Predicted House: ravenclaw ({'gryffindor': 925, 'hufflepuff': 800, 'ravenclaw': 1500, 'slytherin': 700})\n",
      "Desired house: slytherin Predicted House: ravenclaw ({'gryffindor': 725, 'hufflepuff': 600, 'ravenclaw': 1300, 'slytherin': 1150})\n"
     ]
    }
   ],
   "source": [
    "from evaluation.sorting_hat import evaluate_by_house\n",
    "\n",
    "hat_questions = json.load(open(\"../../data/quizzes/quiz_questions/hp/sorting_hat.json\"))\n",
    "\n",
    "evaluate_by_house(pipeline, \"gryffindor\", hat_questions)\n",
    "evaluate_by_house(pipeline, \"hufflepuff\", hat_questions)\n",
    "evaluate_by_house(pipeline, \"ravenclaw\", hat_questions)\n",
    "evaluate_by_house(pipeline, \"slytherin\", hat_questions)"
   ]
  }
 ],
 "metadata": {
  "kernelspec": {
   "display_name": "ul-fri-nlp-course-project-iota-g_O3Pc_g-py3.11",
   "language": "python",
   "name": "python3"
  },
  "language_info": {
   "codemirror_mode": {
    "name": "ipython",
    "version": 3
   },
   "file_extension": ".py",
   "mimetype": "text/x-python",
   "name": "python",
   "nbconvert_exporter": "python",
   "pygments_lexer": "ipython3",
   "version": "3.11.8"
  }
 },
 "nbformat": 4,
 "nbformat_minor": 2
}
