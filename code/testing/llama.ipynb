{
 "cells": [
  {
   "cell_type": "code",
   "execution_count": 1,
   "metadata": {},
   "outputs": [],
   "source": [
    "import torch\n",
    "from transformers import (\n",
    "    AutoModelForCausalLM,\n",
    "    AutoTokenizer,\n",
    "    BitsAndBytesConfig,\n",
    "    pipeline,\n",
    ")"
   ]
  },
  {
   "cell_type": "code",
   "execution_count": 2,
   "metadata": {},
   "outputs": [
    {
     "name": "stderr",
     "output_type": "stream",
     "text": [
      "A new version of the following files was downloaded from https://huggingface.co/microsoft/Phi-3-mini-4k-instruct:\n",
      "- configuration_phi3.py\n",
      ". Make sure to double-check they do not contain any added malicious code. To avoid downloading new versions of the code file, you can pin a revision.\n",
      "A new version of the following files was downloaded from https://huggingface.co/microsoft/Phi-3-mini-4k-instruct:\n",
      "- modeling_phi3.py\n",
      ". Make sure to double-check they do not contain any added malicious code. To avoid downloading new versions of the code file, you can pin a revision.\n",
      "`flash-attention` package not found, consider installing for better performance: No module named 'flash_attn'.\n",
      "Current `flash-attenton` does not support `window_size`. Either upgrade or use `attn_implementation='eager'`.\n",
      "`low_cpu_mem_usage` was None, now set to True since model is quantized.\n"
     ]
    },
    {
     "data": {
      "application/vnd.jupyter.widget-view+json": {
       "model_id": "2cb09e2527cd4758b678f75d1be18829",
       "version_major": 2,
       "version_minor": 0
      },
      "text/plain": [
       "Downloading shards:   0%|          | 0/2 [00:00<?, ?it/s]"
      ]
     },
     "metadata": {},
     "output_type": "display_data"
    },
    {
     "data": {
      "application/vnd.jupyter.widget-view+json": {
       "model_id": "f6a104d4bb604771a8ccda053e6e7cc4",
       "version_major": 2,
       "version_minor": 0
      },
      "text/plain": [
       "Loading checkpoint shards:   0%|          | 0/2 [00:00<?, ?it/s]"
      ]
     },
     "metadata": {},
     "output_type": "display_data"
    }
   ],
   "source": [
    "bnb_config = BitsAndBytesConfig(\n",
    "    load_in_4bit=True,\n",
    "    bnb_4bit_quant_type=\"nf4\",\n",
    "    bnb_4bit_use_double_quant=True,\n",
    "    bnb_4bit_compute_dtype=torch.bfloat16,\n",
    ")\n",
    "\n",
    "model_name = \"microsoft/Phi-3-mini-4k-instruct\"\n",
    "\n",
    "model = AutoModelForCausalLM.from_pretrained(\n",
    "    model_name,\n",
    "    quantization_config=bnb_config,\n",
    "    trust_remote_code=True,\n",
    ")\n",
    "model.config.use_cache = False"
   ]
  },
  {
   "cell_type": "code",
   "execution_count": 219,
   "metadata": {},
   "outputs": [
    {
     "name": "stderr",
     "output_type": "stream",
     "text": [
      "Special tokens have been added in the vocabulary, make sure the associated word embeddings are fine-tuned or trained.\n"
     ]
    }
   ],
   "source": [
    "tokenizer = AutoTokenizer.from_pretrained(model_name, trust_remote_code=True)\n",
    "\n",
    "pipeline = pipeline(\"text-generation\", model=model, tokenizer=tokenizer)"
   ]
  },
  {
   "cell_type": "code",
   "execution_count": 221,
   "metadata": {},
   "outputs": [
    {
     "name": "stdout",
     "output_type": "stream",
     "text": [
      "Answer the following multiple choice question with only a single letter.\n",
      "        Who were Harry's parents?\n",
      "        (A) Henry and Maggie Potter\n",
      "        (B) James and Lily Potter\n",
      "        (C) William and Elizabeth Potter\n",
      "        Answer: (B\n"
     ]
    }
   ],
   "source": [
    "prompt = \"\"\"Answer the following multiple choice question with only a single letter.\n",
    "        Who were Harry's parents?\n",
    "        (A) Henry and Maggie Potter\n",
    "        (B) James and Lily Potter\n",
    "        (C) William and Elizabeth Potter\n",
    "        Answer: (\"\"\"\n",
    "\n",
    "result = pipeline(prompt, max_new_tokens=1)\n",
    "print(result[0][\"generated_text\"])"
   ]
  },
  {
   "cell_type": "code",
   "execution_count": 206,
   "metadata": {},
   "outputs": [],
   "source": [
    "%load_ext autoreload\n",
    "%autoreload 2"
   ]
  },
  {
   "cell_type": "code",
   "execution_count": 224,
   "metadata": {},
   "outputs": [
    {
     "name": "stderr",
     "output_type": "stream",
     "text": [
      "  0%|          | 0/108 [00:00<?, ?it/s]"
     ]
    },
    {
     "name": "stderr",
     "output_type": "stream",
     "text": [
      "  8%|▊         | 9/108 [00:00<00:09, 10.99it/s]"
     ]
    },
    {
     "name": "stdout",
     "output_type": "stream",
     "text": [
      "Answer the following multiple choice question with only a single letter.\n",
      "Who first shows Harry the diary of Tom Riddle?\n",
      "(A) Moaning  Myrtle\n",
      "(B) Fawkes\n",
      "(C) Nearly Headless Nick\n",
      "Answer: (C\n",
      "Correct answer: A\n",
      "\n",
      "Answer the following multiple choice question with only a single letter.\n",
      "What's the only book in the Harry Potter series that doesn't feature Lord Voldemort?\n",
      "(A) The Sorcerer's Stone\n",
      "(B) The Prisoner of Azkaban\n",
      "(C) The Deathly Hallows\n",
      "Answer: (A\n",
      "Correct answer: B\n",
      "\n"
     ]
    },
    {
     "name": "stderr",
     "output_type": "stream",
     "text": [
      " 19%|█▉        | 21/108 [00:02<00:07, 11.30it/s]"
     ]
    },
    {
     "name": "stdout",
     "output_type": "stream",
     "text": [
      "Answer the following multiple choice question with only a single letter.\n",
      "In the first line of the first book of the Harry Potter \n",
      "series, we learn that Harry's aunt and uncle, the Dursleys, were proud \n",
      "to say that they were____________:\n",
      "(A) \"...perfectly normal, thank you very much.\"\n",
      "(B) \"...the last people you'd expect to be involved in anything strange or mysterious.\"\n",
      "(C) \"...proud winners of the best-kept suburban lawn competition.\"\n",
      "Answer: (B\n",
      "Correct answer: A\n",
      "\n",
      "Answer the following multiple choice question with only a single letter.\n",
      "In \"Harry Potter and the Sorcerer's Stone,\" the first \n",
      "book, a magical creature named Fluffy guards a trapdoor. What kind of \n",
      "creature is Fluffy?\n",
      "(A) A Niffler, a cuddly creature that is a useful treasure detector\n",
      "(B) Acromantula, a gigantic black spider raised by Hagrid from infancy\n",
      "(C) A Hellhound, also known as a \"three-headed dog\"\n",
      "Answer: (A\n",
      "Correct answer: C\n",
      "\n",
      "Answer the following multiple choice question with only a single letter.\n",
      "The sorcerer's stone is an incredibly valuable magical \n",
      "item which provides immortality and unlimited wealth. Which item was NOT\n",
      " protecting its hiding place?\n",
      "(A) A three-headed dog\n",
      "(B) A Blast-Ended Skrewt\n",
      "(C) Snape's potions puzzle\n",
      "Answer: (C\n",
      "Correct answer: B\n",
      "\n"
     ]
    },
    {
     "name": "stderr",
     "output_type": "stream",
     "text": [
      " 23%|██▎       | 25/108 [00:02<00:07, 11.28it/s]"
     ]
    },
    {
     "name": "stdout",
     "output_type": "stream",
     "text": [
      "Answer the following multiple choice question with only a single letter.\n",
      "How did Harry retrieve the sorcerer's stone from the Mirror of Erised?\n",
      "(A) He broke the mirror fighting with Quirrell.\n",
      "(B) He looked into the mirror and felt the stone drop into his pocket.\n",
      "(C) He distracted Quirrell and quickly accessed a small hidden chamber in the mirror's lower frame.\n",
      "Answer: (C\n",
      "Correct answer: B\n",
      "\n",
      "Answer the following multiple choice question with only a single letter.\n",
      "In the second book, Harry and Ron miss the train back to \n",
      "school, so they fly to Hogwarts in Ron's dad's bewitched Ford Anglia \n",
      "instead. How does this misadventure end?\n",
      "(A) They land spectacularly on the front lawn at Hogwarts.\n",
      "(B) The car is spotted by muggles up and down the countryside, and\n",
      " both Harry and Ron are disciplined by the Ministry of Magic.\n",
      "(C) They crash into the Whomping Willow.\n",
      "Answer: (A\n",
      "Correct answer: C\n",
      "\n"
     ]
    },
    {
     "name": "stderr",
     "output_type": "stream",
     "text": [
      " 27%|██▋       | 29/108 [00:02<00:06, 11.48it/s]"
     ]
    },
    {
     "name": "stdout",
     "output_type": "stream",
     "text": [
      "Answer the following multiple choice question with only a single letter.\n",
      "In the second book, Harry discovers a diary that used to \n",
      "belong to a Hogwarts student named Tom Riddle. According to the diary, \n",
      "which Hogwarts employee is the heir of Slytherin?\n",
      "(A) Hagrid\n",
      "(B) McGonagall\n",
      "(C) Snape\n",
      "Answer: (C\n",
      "Correct answer: A\n",
      "\n",
      "Answer the following multiple choice question with only a single letter.\n",
      "In the third book, \"Harry Potter and the Prisoner of \n",
      "Azkaban,\" Harry runs away from his aunt and uncle's home after \n",
      "accidentally ______________.\n",
      "(A) Casting a Patronus charm\n",
      "(B) Blowing his Aunt Marge up like a balloon\n",
      "(C) Dropping a ton-tongue toffee that gets eaten by Dudley\n",
      "Answer: (C\n",
      "Correct answer: B\n",
      "\n"
     ]
    },
    {
     "name": "stderr",
     "output_type": "stream",
     "text": [
      " 31%|███       | 33/108 [00:03<00:06, 11.59it/s]"
     ]
    },
    {
     "name": "stdout",
     "output_type": "stream",
     "text": [
      "Answer the following multiple choice question with only a single letter.\n",
      "Third-year students at Hogwarts get to do two things they weren't allowed to do previously. What are they?\n",
      "(A) Visit Hogsmeade and become prefects\n",
      "(B) Become prefects and start new subjects\n",
      "(C) Start new elective subjects and visit Hogsmeade\n",
      "Answer: (A\n",
      "Correct answer: C\n",
      "\n"
     ]
    },
    {
     "name": "stderr",
     "output_type": "stream",
     "text": [
      " 36%|███▌      | 39/108 [00:03<00:05, 11.54it/s]"
     ]
    },
    {
     "name": "stdout",
     "output_type": "stream",
     "text": [
      "Answer the following multiple choice question with only a single letter.\n",
      "In the fourth book, Harry finds himself infatuated with a \n",
      "girl for the first time. What Quidditch position did Cho Chang play?\n",
      "(A) Seeker\n",
      "(B) Beater\n",
      "(C) Keeper\n",
      "Answer: (C\n",
      "Correct answer: A\n",
      "\n"
     ]
    },
    {
     "name": "stderr",
     "output_type": "stream",
     "text": [
      " 40%|███▉      | 43/108 [00:03<00:05, 11.51it/s]"
     ]
    },
    {
     "name": "stdout",
     "output_type": "stream",
     "text": [
      "Answer the following multiple choice question with only a single letter.\n",
      "Harry witnessed Voldemort's return at the end of the fourth book. How did the Dark Lord get his body back?\n",
      "(A) He stole the sorcerer's stone and used it to conjure a corporeal form.\n",
      "(B) He reanimated his old body by possessing the corpse of James Potter.\n",
      "(C) He used a potion of his own invention to restore himself to his mortal form.\n",
      "Answer: (B\n",
      "Correct answer: C\n",
      "\n"
     ]
    },
    {
     "name": "stderr",
     "output_type": "stream",
     "text": [
      " 47%|████▋     | 51/108 [00:04<00:05, 10.94it/s]"
     ]
    },
    {
     "name": "stdout",
     "output_type": "stream",
     "text": [
      "Answer the following multiple choice question with only a single letter.\n",
      "In the sixth book, we learn about Horcruxes, objects that \n",
      "contain a fragment of a Dark Wizard's soul. What are the seven Horcruxes\n",
      " that Voldemort created?\n",
      "(A) Tom Riddle's diary, Marvolo Gaunt's locket, Slytherin's ring, \n",
      "Hufflepuff's cup, Rowena Ravenclaw's diadem, Nagini the snake and Harry \n",
      "Potter himself\n",
      "(B) Tom Riddle's diary, Marvolo Gaunt's ring, Slytherin's locket, \n",
      "Hufflepuff's cup, Rowena Ravenclaw's diadem, Nagini the snake and Harry \n",
      "Potter himself\n",
      "(C) Tom Riddle's diary, Marvolo Gaunt's ring, Slytherin's locket, \n",
      "Hufflepuff's diadem, Rowena Ravenclaw's cup, Nagini the snake and Harry \n",
      "Potter himself\n",
      "Answer: (A\n",
      "Correct answer: B\n",
      "\n"
     ]
    },
    {
     "name": "stderr",
     "output_type": "stream",
     "text": [
      " 49%|████▉     | 53/108 [00:04<00:04, 11.22it/s]"
     ]
    },
    {
     "name": "stdout",
     "output_type": "stream",
     "text": [
      "Answer the following multiple choice question with only a single letter.\n",
      "What magical object must Draco Malfoy repair in order to carry out his instructions from Voldemort?\n",
      "(A) Slytherin's locket\n",
      "(B) Vanishing Cabinet\n",
      "(C) The Room of Requirement\n",
      "Answer: (A\n",
      "Correct answer: B\n",
      "\n"
     ]
    },
    {
     "name": "stderr",
     "output_type": "stream",
     "text": [
      " 56%|█████▋    | 61/108 [00:05<00:03, 11.85it/s]"
     ]
    },
    {
     "name": "stdout",
     "output_type": "stream",
     "text": [
      "Answer the following multiple choice question with only a single letter.\n",
      "What year was the first Harry Potter book published?\n",
      "(A) 1996\n",
      "(B) 1997\n",
      "(C) 1998\n",
      "(D) 1999\n",
      "Answer: (A\n",
      "Correct answer: B\n",
      "\n",
      "Answer the following multiple choice question with only a single letter.\n",
      "What is the real name of Ronald Weasleys pet rat?\n",
      "(A) Scabbers\n",
      "(B) Wormtail\n",
      "(C) Peter Pettigrew\n",
      "(D) Hedwig\n",
      "Answer: (A\n",
      "Correct answer: C\n",
      "\n",
      "Answer the following multiple choice question with only a single letter.\n",
      "Which of these is not one of Albus Dumbledores middle names?\n",
      "(A) Brian\n",
      "(B) Percival\n",
      "(C) Wulfric\n",
      "(D) Severus\n",
      "Answer: (A\n",
      "Correct answer: D\n",
      "\n"
     ]
    },
    {
     "name": "stderr",
     "output_type": "stream",
     "text": [
      " 60%|██████    | 65/108 [00:05<00:03, 11.88it/s]"
     ]
    },
    {
     "name": "stdout",
     "output_type": "stream",
     "text": [
      "Answer the following multiple choice question with only a single letter.\n",
      "How many named ghosts live at Hogwarts?\n",
      "(A) 12\n",
      "(B) 7\n",
      "(C) 6\n",
      "(D) 11\n",
      "Answer: (B\n",
      "Correct answer: C\n",
      "\n"
     ]
    },
    {
     "name": "stderr",
     "output_type": "stream",
     "text": [
      " 66%|██████▌   | 71/108 [00:06<00:03, 12.09it/s]"
     ]
    },
    {
     "name": "stdout",
     "output_type": "stream",
     "text": [
      "Answer the following multiple choice question with only a single letter.\n",
      "Who killed Dobby?\n",
      "(A) Severus Snape\n",
      "(B) He Who Must Not Be Named\n",
      "(C) Bellatrix Lestrange\n",
      "(D) Lucius Malfoy\n",
      "Answer: (B\n",
      "Correct answer: C\n",
      "\n"
     ]
    },
    {
     "name": "stderr",
     "output_type": "stream",
     "text": [
      " 69%|██████▉   | 75/108 [00:06<00:02, 12.02it/s]"
     ]
    },
    {
     "name": "stdout",
     "output_type": "stream",
     "text": [
      "Answer the following multiple choice question with only a single letter.\n",
      "What is the name of the magical room in Hogwarts that transforms into the place you need the most?\n",
      "(A) The Room of Retirement\n",
      "(B) The Vanishing Vault\n",
      "(C) The Chamber of Secrets\n",
      "(D) The Hogwart's Hideaway\n",
      "Answer: (C\n",
      "Correct answer: A\n",
      "\n"
     ]
    },
    {
     "name": "stderr",
     "output_type": "stream",
     "text": [
      " 73%|███████▎  | 79/108 [00:07<00:02, 11.94it/s]"
     ]
    },
    {
     "name": "stdout",
     "output_type": "stream",
     "text": [
      "Answer the following multiple choice question with only a single letter.\n",
      "________________ is the title of Chapter Five in the book, ‘Harry Potter and the Chamber of Secrets’.\n",
      "(A) The Weeping Willow\n",
      "(B) The Whomping Willow\n",
      "(C) The Whooping Willow\n",
      "(D) The Whomping Tree\n",
      "Answer: (D\n",
      "Correct answer: B\n",
      "\n",
      "Answer the following multiple choice question with only a single letter.\n",
      "Who competes for Hogwarts alongside Harry in the Triwizard Tournament?\n",
      "(A) Cedric Diggory\n",
      "(B) Cho Chang\n",
      "(C) Draco Malfoy\n",
      "(D) Viktor Krum\n",
      "Answer: (D\n",
      "Correct answer: A\n",
      "\n"
     ]
    },
    {
     "name": "stderr",
     "output_type": "stream",
     "text": [
      " 77%|███████▋  | 83/108 [00:07<00:02, 11.89it/s]"
     ]
    },
    {
     "name": "stdout",
     "output_type": "stream",
     "text": [
      "Answer the following multiple choice question with only a single letter.\n",
      "_____________________ was second to open the Chamber of Secrets.\n",
      "(A) Dumbledore\n",
      "(B) Draco Malfoy\n",
      "(C) Ginny Weasley\n",
      "(D) Tom Riddle\n",
      "Answer: (D\n",
      "Correct answer: C\n",
      "\n",
      "Answer the following multiple choice question with only a single letter.\n",
      "J.K. Rowling has a pseudonym that she goes by when writing other books. Which of the following is it?\n",
      "(A) Jillian Kerry\n",
      "(B) Robert Gailbraith\n",
      "(C) Annie Parkland\n",
      "(D) Joanne Rowe\n",
      "Answer: (D\n",
      "Correct answer: B\n",
      "\n"
     ]
    },
    {
     "name": "stderr",
     "output_type": "stream",
     "text": [
      " 88%|████████▊ | 95/108 [00:08<00:01, 11.71it/s]"
     ]
    },
    {
     "name": "stdout",
     "output_type": "stream",
     "text": [
      "Answer the following multiple choice question with only a single letter.\n",
      "Harry and Voldemort’s wands share twin cores. What is the core of their wands?\n",
      "(A) Dragon heartstring\n",
      "(B) Acromantula web\n",
      "(C) Unicorn hair\n",
      "(D) Phoenix feather\n",
      "Answer: (A\n",
      "Correct answer: D\n",
      "\n",
      "Answer the following multiple choice question with only a single letter.\n",
      "Which \n",
      "witch or wizard did Harry meet in the Leaky Cauldron that he pretended \n",
      "not to remember after seeing him in Hagrid’s Hut the previous year?\n",
      "(A) Cornelius Fudge\n",
      "(B) Stan Shunpike\n",
      "(C) Minerva McGonagall\n",
      "(D) Ernie Prang\n",
      "Answer: (B\n",
      "Correct answer: A\n",
      "\n"
     ]
    },
    {
     "name": "stderr",
     "output_type": "stream",
     "text": [
      " 92%|█████████▏| 99/108 [00:08<00:00, 11.70it/s]"
     ]
    },
    {
     "name": "stdout",
     "output_type": "stream",
     "text": [
      "Answer the following multiple choice question with only a single letter.\n",
      "What does Albus Dumbledore leave to Hermione in his will?\n",
      "(A) The Sword of Goodrich Gryffindor\n",
      "(B) The Deluminator\n",
      "(C) The Tales of Bridle the Bard\n",
      "(D) Secrets of the Darkest Art\n",
      "Answer: (D\n",
      "Correct answer: C\n",
      "\n",
      "Answer the following multiple choice question with only a single letter.\n",
      "How are Bellatrix Lestrange and Nymphadora Tonks related?\n",
      "(A) They are sisters.\n",
      "(B) They are mother and daughter.\n",
      "(C) They are aunt and niece.\n",
      "(D) They are cousins.\n",
      "Answer: (A\n",
      "Correct answer: C\n",
      "\n"
     ]
    },
    {
     "name": "stderr",
     "output_type": "stream",
     "text": [
      " 95%|█████████▌| 103/108 [00:09<00:00, 11.57it/s]"
     ]
    },
    {
     "name": "stdout",
     "output_type": "stream",
     "text": [
      "Answer the following multiple choice question with only a single letter.\n",
      "Can you help Dumbledore out with the last word of his speech? “Nitwit! Blubber! Oddment! _______!””\n",
      "(A) Widdershins\n",
      "(B) Tweak\n",
      "(C) Gobble\n",
      "(D) Doodle\n",
      "Answer: (A\n",
      "Correct answer: B\n",
      "\n"
     ]
    },
    {
     "name": "stderr",
     "output_type": "stream",
     "text": [
      "100%|██████████| 108/108 [00:09<00:00, 11.38it/s]"
     ]
    },
    {
     "name": "stdout",
     "output_type": "stream",
     "text": [
      "Answer the following multiple choice question with only a single letter.\n",
      "Which of the following was the least successful of the ‘Harry Potter’ films?\n",
      "(A) Harry Potter and the Philosopher's Stone\n",
      "(B) Harry Potter and the Half-Blood Prince\n",
      "(C) Harry Potter and the Order of the Phoenix\n",
      "(D) Harry Potter and the Prisoner of Azkaban\n",
      "Answer: (B\n",
      "Correct answer: D\n",
      "\n",
      "Correct: 78/108 (72.22%)\n"
     ]
    },
    {
     "name": "stderr",
     "output_type": "stream",
     "text": [
      "\n"
     ]
    }
   ],
   "source": [
    "import json\n",
    "import sys\n",
    "\n",
    "# Bad practice goes brrrr\n",
    "sys.path.append(\"..\")\n",
    "\n",
    "from evaluation.trivia import evaluate_trivia\n",
    "\n",
    "questions = json.load(open(\"../../data/quizzes/hp/smeti/quiz-questions_full.json\"))\n",
    "\n",
    "evaluate_trivia(pipeline, questions)"
   ]
  }
 ],
 "metadata": {
  "kernelspec": {
   "display_name": "ul-fri-nlp-course-project-iota-g_O3Pc_g-py3.11",
   "language": "python",
   "name": "python3"
  },
  "language_info": {
   "codemirror_mode": {
    "name": "ipython",
    "version": 3
   },
   "file_extension": ".py",
   "mimetype": "text/x-python",
   "name": "python",
   "nbconvert_exporter": "python",
   "pygments_lexer": "ipython3",
   "version": "3.11.8"
  }
 },
 "nbformat": 4,
 "nbformat_minor": 2
}
