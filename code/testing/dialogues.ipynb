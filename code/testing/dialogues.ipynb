{
 "cells": [
  {
   "cell_type": "code",
   "execution_count": 1,
   "metadata": {},
   "outputs": [],
   "source": [
    "import sys\n",
    "\n",
    "import pandas as pd\n",
    "\n",
    "sys.path.append(\"../\")\n",
    "from evaluation.manual_evaluation_questions import questions"
   ]
  },
  {
   "cell_type": "code",
   "execution_count": 2,
   "metadata": {},
   "outputs": [],
   "source": [
    "dialogues = pd.read_csv(\"../../data/dialogue/booknlp.csv\")"
   ]
  },
  {
   "cell_type": "code",
   "execution_count": 6,
   "metadata": {},
   "outputs": [
    {
     "name": "stdout",
     "output_type": "stream",
     "text": [
      "non-specific False 0\n",
      "harry_lore False 0\n",
      "Harry True 8130\n",
      "Hermione True 3810\n",
      "Ron True 4292\n",
      "Dumbledore True 1782\n",
      "Voldemort True 269\n",
      "Malfoy True 469\n",
      "asoiaf_lore False 0\n",
      "Hodor True 113\n",
      "Tyrion True 2613\n",
      "Ned True 653\n",
      "Dany True 1237\n",
      "Jon True 1913\n",
      "trivia False 0\n"
     ]
    }
   ],
   "source": [
    "characters = dialogues[\"character\"].unique()\n",
    "\n",
    "for character in questions:\n",
    "    print(character, character in characters, len(dialogues[dialogues[\"character\"] == character]))"
   ]
  },
  {
   "cell_type": "code",
   "execution_count": 4,
   "metadata": {},
   "outputs": [
    {
     "name": "stdout",
     "output_type": "stream",
     "text": [
      "32541\n",
      "       character  dialogues\n",
      "41         Harry       8130\n",
      "108          Ron       4292\n",
      "45      Hermione       3810\n",
      "24    Dumbledore       1782\n",
      "40        Hagrid       1414\n",
      "117        Snape        881\n",
      "58         Lupin        641\n",
      "33          Fred        593\n",
      "75   Mr. Weasley        540\n",
      "66        Malfoy        469\n"
     ]
    }
   ],
   "source": [
    "hp_dialogues = dialogues[dialogues[\"series\"] == \"hp\"]\n",
    "print(len(hp_dialogues))\n",
    "\n",
    "# Group by character\n",
    "hp_dialogues_grouped = hp_dialogues.groupby(\"character\")\n",
    "\n",
    "# Count number of dialogues per character\n",
    "hp_dialogues_count = hp_dialogues_grouped.size().reset_index(name=\"dialogues\")\n",
    "print(hp_dialogues_count.sort_values(by=\"dialogues\", ascending=False)[:10])"
   ]
  }
 ],
 "metadata": {
  "kernelspec": {
   "display_name": "ul-fri-nlp-course-project-iota-g_O3Pc_g-py3.11",
   "language": "python",
   "name": "python3"
  },
  "language_info": {
   "codemirror_mode": {
    "name": "ipython",
    "version": 3
   },
   "file_extension": ".py",
   "mimetype": "text/x-python",
   "name": "python",
   "nbconvert_exporter": "python",
   "pygments_lexer": "ipython3",
   "version": "3.11.8"
  }
 },
 "nbformat": 4,
 "nbformat_minor": 2
}
